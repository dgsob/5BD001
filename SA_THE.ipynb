{
  "nbformat": 4,
  "nbformat_minor": 0,
  "metadata": {
    "colab": {
      "provenance": [],
      "authorship_tag": "ABX9TyORWbm/ry1FLOvMAc52IdoW",
      "include_colab_link": true
    },
    "kernelspec": {
      "name": "ir",
      "display_name": "R"
    },
    "language_info": {
      "name": "R"
    }
  },
  "cells": [
    {
      "cell_type": "markdown",
      "metadata": {
        "id": "view-in-github",
        "colab_type": "text"
      },
      "source": [
        "<a href=\"https://colab.research.google.com/github/dgsob/5BD001/blob/main/SA_THE.ipynb\" target=\"_parent\"><img src=\"https://colab.research.google.com/assets/colab-badge.svg\" alt=\"Open In Colab\"/></a>"
      ]
    },
    {
      "cell_type": "markdown",
      "source": [
        "# Survival Analysis with Applications in Medicine: Take-home examination"
      ],
      "metadata": {
        "id": "gLPz2WR6uj-6"
      }
    },
    {
      "cell_type": "markdown",
      "source": [
        "## A. Weibull regression models (3 marks)"
      ],
      "metadata": {
        "id": "xkyWfnPounEF"
      }
    },
    {
      "cell_type": "markdown",
      "source": [
        "### 1. For a proportional hazards model with $S_0(t)$ that is a Weibull distribution, show that survival $S(t)$ is also from a Weibull distribution. Marks: 1 for a correct answer; 0.5 for a minor error; otherwise 0."
      ],
      "metadata": {
        "id": "XtvlRw3cum-h"
      }
    },
    {
      "cell_type": "markdown",
      "source": [
        "For a proportional hazards model, we have:\n",
        "$$S(t|x) = S_0(t)^{\\exp(\\beta x)}$$\n",
        "\n",
        "Where $$S_0(t) = \\exp(-\\lambda t^k)$$ is the Weibull baseline survival function.\n",
        "\n",
        "Let's substitute:\n",
        "$$S(t|x) = [\\exp(-\\lambda t^k)]^{\\exp(\\beta x)} = \\exp(-\\lambda t^k \\cdot \\exp(\\beta x))$$\n",
        "\n",
        "This can be written as:\n",
        "$$S(t|x) = \\exp(-\\lambda \\cdot \\exp(\\beta x) \\cdot t^k)$$\n",
        "\n",
        "This is still a Weibull distribution with parameter:\n",
        "$$\\lambda' = \\lambda \\cdot \\exp(\\beta x)$$\n",
        "\n",
        "So survival $S(t)$ is indeed from a Weibull distribution."
      ],
      "metadata": {
        "id": "O53PWi4zum5F"
      }
    },
    {
      "cell_type": "markdown",
      "source": [
        "### 2. For an accelerated failure time model with $S_0(t)$ that is a Weibull distribution, show that survival $S(t)$ is also from a Weibull distribution. Marks: 1 for a correct answer; 0.5 for a minor error; otherwise 0."
      ],
      "metadata": {
        "id": "cT7rn2P4ulyr"
      }
    },
    {
      "cell_type": "markdown",
      "source": [
        "For an accelerated failure time (AFT) model, we have:\n",
        "$$S(t|x) = S_0(t \\exp(-\\tilde{\\beta}x))$$\n",
        "\n",
        "Where $$S_0(t) = \\exp(-\\lambda t^k)$$ is the Weibull baseline survival function.\n",
        "\n",
        "Let's substitute:\n",
        "$$S(t|x) = \\exp(-\\lambda[t \\exp(-\\tilde{\\beta}x)]^k)$$\n",
        "$$S(t|x) = \\exp(-\\lambda t^k \\exp(-k\\tilde{\\beta}x))$$\n",
        "\n",
        "This can be written as:\n",
        "$$S(t|x) = \\exp(-\\lambda \\exp(-k\\tilde{\\beta}x) \\cdot t^k)$$\n",
        "\n",
        "This is still a Weibull distribution with parameter:\n",
        "$$\\lambda' = \\lambda\\exp(-k\\tilde{\\beta}x)$$\n",
        "So this survival $S(t)$ is also from a Weibull distribution."
      ],
      "metadata": {
        "id": "vqP5oKIoPCnK"
      }
    },
    {
      "cell_type": "markdown",
      "source": [
        "### 3. What is the relationship between $β$ and $\\tilde{\\beta}$ if both models have a Weibull baseline survival function? Marks: 1 for a correct answer; 0.5 for a minor error; otherwise 0."
      ],
      "metadata": {
        "id": "h3wbfpLHPrtT"
      }
    },
    {
      "cell_type": "markdown",
      "source": [
        "From our derivations above:\n",
        "\n",
        "In the proportional hazards model, the scale parameter is:\n",
        "$\\lambda' = \\lambda \\exp(\\beta x)$\n",
        "\n",
        "In the accelerated failure time model, the scale parameter becomes:\n",
        "$\\lambda' = \\lambda\\exp(-k\\tilde{\\beta}x)$\n",
        "\n",
        "For these to be equivalent models (since they both result in Weibull distributions):\n",
        "$\\lambda \\exp(\\beta x) = \\lambda \\exp(-k\\tilde{\\beta}x)$\n",
        "\n",
        "Then:\n",
        "$\\exp(\\beta x) = \\exp(-k\\tilde{\\beta}x)$ $→$\n",
        "$\\beta x = -k\\tilde{\\beta}x$\n",
        "\n",
        "Thus: $\\beta = -k\\tilde{\\beta}$"
      ],
      "metadata": {
        "id": "qXX6NC4_QTua"
      }
    },
    {
      "cell_type": "markdown",
      "source": [
        "## B: Interval-censored likelihood (3 marks)"
      ],
      "metadata": {
        "id": "Sv3DeiUnR6sH"
      }
    },
    {
      "cell_type": "markdown",
      "source": [
        "### 1. Assume that we have a data tuple $(t_i, u_i, v_i)$ where $t_i$ is the delayed entry (left truncation) time and an event is observed in the interval $(u_i, v_i]$ for individual $i$. Express the log-likelihood for this data tuple in terms of (a) survival $S(t)$ and (b) the hazard $h(t)$ at time $t$. Marks for (a) and for (b): 1 for a correct answer; 0.5 for a minor error; otherwise 0."
      ],
      "metadata": {
        "id": "9h6vLV_KSx1e"
      }
    },
    {
      "cell_type": "markdown",
      "source": [
        "(a)    \n",
        "For left-truncated interval-censored data:\n",
        "\n",
        "$$P(u_i < T_i \\leq v_i|T_i > t_i) = \\frac{P(u_i < T_i \\leq v_i \\cap T_i > t_i)}{P(T_i > t_i)} = \\frac{P(u_i < T_i \\leq v_i)}{P(T_i > t_i)}$$\n",
        "\n",
        "Since $u_i \\geq t_i$ (the observation window starts after the truncation time), we can write:\n",
        "\n",
        "$$P(u_i < T_i \\leq v_i|T_i > t_i) = \\frac{S(u_i) - S(v_i)}{S(t_i)}$$\n",
        "\n",
        "Taking the logarithm for the log-likelihood:\n",
        "\n",
        "$$\\log L_i = \\log[S(u_i) - S(v_i)] - \\log(S(t_i))$$"
      ],
      "metadata": {
        "id": "83KxeqCc302I"
      }
    },
    {
      "cell_type": "markdown",
      "source": [
        "(b)    \n",
        "We know that the survival function can be derived from hazard function:\n",
        "\n",
        "$$S(t) = \\exp \\left(- \\int_0^t h(s)ds \\right)$$\n",
        "\n",
        "Thus:\n",
        "\n",
        "$$S(u_i) = \\exp \\left(- \\int_0^{u_i} h(s)ds \\right)$$\n",
        "\n",
        "$$S(v_i) = \\exp \\left(- \\int_0^{v_i} h(s)ds \\right)$$\n",
        "\n",
        "$$S(t_i) = \\exp \\left(- \\int_0^{t_i} h(s)ds \\right)$$\n",
        "\n",
        "For $S(v_i)$ we can do:\n",
        "$$S(v_i) = \\exp \\left(- \\int_0^{u_i} h(s)ds - \\int_{u_i}^{v_i} h(s)ds \\right) = S(u_i) \\cdot \\exp \\left(- \\int_{u_i}^{v_i} h(s)ds \\right)$$\n",
        "\n",
        "Then substitute it to the result of (a) and factor the $S(u_i)$ out:\n",
        "$$\\log L_i = \\log \\left( S(u_i) - S(u_i) \\cdot \\exp \\left(- \\int_{u_i}^{v_i} h(s)ds \\right) \\right) - \\log(S(t_i))$$\n",
        "\n",
        "$$\\log L_i = \\log \\left( S(u_i) \\cdot \\left( 1 - \\exp \\left(- \\int_{u_i}^{v_i} h(s)ds \\right) \\right) \\right) - \\log(S(t_i))$$\n",
        "\n",
        "$$\\log L_i = \\log(S(u_i)) + \\log \\left( 1 - \\exp \\left(- \\int_{u_i}^{v_i} h(s)ds \\right) \\right) - \\log(S(t_i))$$\n",
        "\n",
        "Now we substitute the $S(u_i)$ and the $S(t_i)$ accordingly:\n",
        "$$\\log L_i = - \\int_0^{u_i} h(s)ds + \\log \\left( 1 - \\exp \\left(- \\int_{u_i}^{v_i} h(s)ds \\right) \\right) + \\int_0^{t_i} h(s)ds$$\n",
        "\n",
        "Since $t_i$ ≤ $u_i$, the above should result in:\n",
        "$$\\log L_i = \\log \\left( 1 - \\exp \\left(- \\int_{u_i}^{v_i} h(s)ds \\right) \\right) - \\int_{t_i}^{u_i} h(s)ds$$"
      ],
      "metadata": {
        "id": "Oz4NNKZy6Fo0"
      }
    },
    {
      "cell_type": "markdown",
      "source": [
        "### 2. Can you express these data using the Surv function from the survival package? If so, show an example; if not, explain why."
      ],
      "metadata": {
        "id": "i0bp9Ms9a9_E"
      }
    },
    {
      "cell_type": "markdown",
      "source": [
        "It can be implicitly expressed like this:"
      ],
      "metadata": {
        "id": "EPfG0J_Z4mwX"
      }
    },
    {
      "cell_type": "code",
      "source": [
        "library(survival)\n",
        "\n",
        "# Example data frame\n",
        "data <- data.frame(\n",
        "  id = 1:5,\n",
        "  t = c(5, 5, 5, 5, 5),      # Left truncation times\n",
        "  u = c(13, 5, 13, 13, 13),  # Lower interval bounds\n",
        "  v = c(18, 5, 538, 13, Inf) # Upper interval bounds\n",
        ")\n",
        "\n",
        "# For interval-censored data, we need to specify a status/event indicator\n",
        "# From https://www.rdocumentation.org/packages/survival/versions/2.11-4/topics/Surv:\n",
        "# 0 = right censored ------> when v = Inf (event not observed)\n",
        "# 1 = event at time -------> when u = v (the exact time of the event is known)\n",
        "# 2 = left censored -------> when u = 0 or u = t (event started before we checked for the first time)\n",
        "# 3 = interval censored ---> when u < v (sort of typical case)\n",
        "status <- rep(3, nrow(data))\n",
        "status[data$v == Inf] <- 0\n",
        "status[data$u == data$v] <- 1\n",
        "status[data$u == data$t] <- 2\n",
        "\n",
        "# Create the interval-censored Surv object\n",
        "surv_obj <- with(data, Surv(time = u, time2 = v, event = status, type = \"interval\"))\n",
        "\n",
        "# Display the Surv object\n",
        "print(surv_obj)\n",
        "\n",
        "# Then when using in a model,\n",
        "# we would include left truncation with a subset parameter:\n",
        "# model <- coxph(surv_obj ~ predictors, data = data, subset = (t < u))"
      ],
      "metadata": {
        "colab": {
          "base_uri": "https://localhost:8080/"
        },
        "id": "R9dTIKk46Ekh",
        "outputId": "f01fa332-3679-4228-c461-a986c63b513f"
      },
      "execution_count": null,
      "outputs": [
        {
          "output_type": "stream",
          "name": "stdout",
          "text": [
            "[1] [13,  18]  5-       [13, 538] 13        13+      \n"
          ]
        }
      ]
    },
    {
      "cell_type": "markdown",
      "source": [
        "## C: Truncated distributions (7 marks)"
      ],
      "metadata": {
        "id": "L9_yVXgp9CzR"
      }
    },
    {
      "cell_type": "markdown",
      "source": [
        "### 1. Express the survival function for the truncated distribution in terms of the survival function for $T$. Mark: 1 for correct answer; 0.5 for minor error; otherwise 0."
      ],
      "metadata": {
        "id": "5DGya_3Q9LdU"
      }
    },
    {
      "cell_type": "markdown",
      "source": [
        "From the definition of conditional probability:\n",
        "$$\n",
        "P(T > t|T > t_0) = \\frac{P(T > t \\cap T > t_0)}{P(T > t_0)}\n",
        "$$     \n",
        "\n",
        "Since $t \\geq t_0$, $P(T > t \\cap T > t_0) = P(T > t)$, then we have:\n",
        "$$\n",
        "P(T > t|T > t_0) = \\frac{P(T > t)}{P(T > t_0)} = \\frac{S(t)}{S(t_0)}\n",
        "$$                           \n",
        "\n",
        "Thus, the survival function for the truncated distribution in terms of $S(t)$ is:     \n",
        "$$\n",
        "S_{t_0}(t) = \\frac{S(t)}{S(t_0)} \\text{ for } t \\geq t_0\n",
        "$$"
      ],
      "metadata": {
        "id": "AQiLP9PTo74o"
      }
    },
    {
      "cell_type": "markdown",
      "source": [
        "### 2. For the truncated distribution, what is the quantile function $Q(p|t_0)$ that solves $P(T > t|T > t_0) = 1 - p$ for $t$ in terms of the survival and quantile functions for $T$ at quantile (probability) $p$? Marks: 2 for correct answer; 1.5 for very minor error; 1 for minor error; 0.5 for major error but correct approach; otherwise 0."
      ],
      "metadata": {
        "id": "-9c0CV8XbEOR"
      }
    },
    {
      "cell_type": "markdown",
      "source": [
        "We have:\n",
        "$$\n",
        "P(T > t|T > t_0) = 1 - p\n",
        "$$            \n",
        "\n",
        "From question 1:\n",
        "$$\n",
        "\\frac{S(t)}{S(t_0)} = 1 - p\n",
        "$$\n",
        "\n",
        "$$\n",
        "S(t) = (1 - p) \\cdot S(t_0)\n",
        "$$\n",
        "\n",
        "The quantile function $Q(p)$ is defined as $S(Q(p))=1−p$.         \n",
        "If we call the quantile function for the truncated distribution $Q(p|t_0)$, then we can write:\n",
        "$$\n",
        "S(Q(p|t_0)) = (1 - p) \\cdot S(t_0)\n",
        "$$\n",
        "\n",
        "$$\n",
        "Q(p|t_0) = S^{-1}((1 - p) \\cdot S(t_0))\n",
        "$$\n",
        "\n",
        "Recall that $S^{-1}(1 - p) = Q(p)$ for the original distribution. If we define $p' = 1 - (1 - p) \\cdot S(t_0)$, then:\n",
        "$$\n",
        "S^{-1}((1 - p) \\cdot S(t_0)) = S^{-1}(1 - p')\n",
        "$$\n",
        "\n",
        "This gives:\n",
        "$$Q(p|t_0) = Q(p')$$\n",
        "\n",
        "Where:\n",
        "$$\n",
        "p' = 1 - S(t_0) + p \\cdot S(t_0)\n",
        "$$          \n",
        "\n",
        "Thus, the quantile function for the truncated distribution is:    \n",
        "$$Q(p|t_0) = Q(1 - S(t_0) + p \\cdot S(t_0))$$"
      ],
      "metadata": {
        "id": "tQhEmBZ8bUtn"
      }
    },
    {
      "cell_type": "markdown",
      "source": [
        "### 3. Using this algorithm, write, run and report on R code to calculate the 0.4 quantile..."
      ],
      "metadata": {
        "id": "Eqa2RM7Bh77t"
      }
    },
    {
      "cell_type": "code",
      "source": [
        "# Parameters for log-normal distribution\n",
        "mu <- 1\n",
        "sigma <- 1.2\n",
        "t0 <- 2\n",
        "p <- 0.4\n",
        "\n",
        "# Calculate S(t0) - survival function at truncation point\n",
        "# For log-normal: S(t0) = 1 - P(T ≤ t0) = 1 - plnorm(t0, meanlog, sdlog)\n",
        "S_t0 <- 1 - plnorm(t0, meanlog = mu, sdlog = sigma)\n",
        "\n",
        "# Calculate adjusted probability for the quantile function\n",
        "p_adjusted <- p * S_t0 + (1 - S_t0)\n",
        "\n",
        "# Calculate the 0.4 quantile of the truncated distribution\n",
        "quantile_truncated <- qlnorm(p_adjusted, meanlog = mu, sdlog = sigma)\n",
        "\n",
        "# Print results\n",
        "cat(\"Survival probability at t0 =\", t0, \"is S(t0) =\", S_t0, \"\\n\")\n",
        "cat(\"Adjusted probability for quantile function =\", p_adjusted, \"\\n\")\n",
        "cat(\"0.4 quantile of the truncated log-normal distribution =\", quantile_truncated, \"\\n\")"
      ],
      "metadata": {
        "id": "fdEWoxOSQTDe",
        "colab": {
          "base_uri": "https://localhost:8080/"
        },
        "outputId": "4c8503a2-a2b4-4965-9e43-d1c988cce53c"
      },
      "execution_count": 1,
      "outputs": [
        {
          "output_type": "stream",
          "name": "stdout",
          "text": [
            "Survival probability at t0 = 2 is S(t0) = 0.6009129 \n",
            "Adjusted probability for quantile function = 0.6394523 \n",
            "0.4 quantile of the truncated log-normal distribution = 4.171994 \n"
          ]
        }
      ]
    },
    {
      "cell_type": "markdown",
      "source": [
        "This result indicates that:\n",
        "- 60% of values in the original distribution are greater than 2\n",
        "- when adjusted for truncation it's 64%\n",
        "- 40% of the values in the truncated distribution (where all values are ≥ 2) are less than or equal to approximately 4.17."
      ],
      "metadata": {
        "id": "ju6YcHG1lUql"
      }
    },
    {
      "cell_type": "markdown",
      "source": [
        "### 4. Use this R code to check your value of the 0.4 quantile from the truncated log-normal distribution in question C3"
      ],
      "metadata": {
        "id": "VjNWVv-5jrkZ"
      }
    },
    {
      "cell_type": "code",
      "source": [
        "# Function to generate samples from truncated log-normal distribution\n",
        "rtrunc_lnorm <- function(n, meanlog, sdlog, t0) {\n",
        "  y = rlnorm(n, meanlog, sdlog)\n",
        "  while (any(y < t0)) {\n",
        "    y[y < t0] = rlnorm(sum(y < t0), meanlog, sdlog)\n",
        "  }\n",
        "  y\n",
        "}\n",
        "\n",
        "# Generate a large sample from the truncated distribution\n",
        "set.seed(358)\n",
        "samples <- rtrunc_lnorm(10^5, mu, sigma, t0)\n",
        "\n",
        "# Calculate the 0.4 quantile from the samples\n",
        "quantile_empirical <- quantile(samples, 0.4)\n",
        "\n",
        "# Print result\n",
        "cat(\"0.4 quantile from sampling =\", quantile_empirical, \"\\n\")\n",
        "cat(\"Analytical 0.4 quantile =\", quantile_truncated, \"\\n\")"
      ],
      "metadata": {
        "colab": {
          "base_uri": "https://localhost:8080/"
        },
        "id": "QvehDhknjENQ",
        "outputId": "d54bb453-8b2f-40ad-fa38-edb93ae14e2e"
      },
      "execution_count": 6,
      "outputs": [
        {
          "output_type": "stream",
          "name": "stdout",
          "text": [
            "0.4 quantile from sampling = 4.170262 \n",
            "Analytical 0.4 quantile = 4.171994 \n"
          ]
        }
      ]
    },
    {
      "cell_type": "markdown",
      "source": [
        "The values are reasonably close."
      ],
      "metadata": {
        "id": "0FKOc683ko3q"
      }
    },
    {
      "cell_type": "markdown",
      "source": [
        "## D: Cox’s partial likelihood with a time-varying effects (6 marks)"
      ],
      "metadata": {
        "id": "Pec9Z2cDmxrH"
      }
    },
    {
      "cell_type": "markdown",
      "source": [
        "### 1. Let the right censored data tuple..."
      ],
      "metadata": {
        "id": "WOPEyNOdm-Vr"
      }
    },
    {
      "cell_type": "markdown",
      "source": [
        "We have:    \n",
        "* For each individual $i \\in \\{1, ..., n\\}$, we have the tuple $(t_i, \\delta_i, x_i(\\cdot))$\n",
        "\n",
        "* $t_i$ is the follow-up time (from $0$ to $t_i$)\n",
        "\n",
        "* $\\delta_i$ is the event indicator (1 if event observed at time $t_i$, $0$ if censored)\n",
        "\n",
        "* $x_i(t)$ represents the time-varying covariates\n",
        "\n",
        "* The time-varying hazard ratio is $\\exp(x_i(t)^T\\beta)$\n",
        "\n",
        "* $R(t_i)$ is the risk set at time $t_i$, defined as individuals set $\\{j: t_j \\geq t_i\\}$\n",
        "\n",
        "* No tied event times are assumed"
      ],
      "metadata": {
        "id": "lCXRDVOVnKZh"
      }
    },
    {
      "cell_type": "markdown",
      "source": [
        "The partial likelihood function for Cox's model with time-varying effects is:    \n",
        "$$\n",
        "L(\\boldsymbol{\\beta}) = \\prod_{i=1}^{n} \\left[ \\frac{\\exp(\\mathbf{x}_i(t_i)^T \\boldsymbol{\\beta})}{\\sum_{j \\in R(t_i)} \\exp(\\mathbf{x}_j(t_i)^T \\boldsymbol{\\beta})} \\right]^{\\delta_i}\n",
        "$$"
      ],
      "metadata": {
        "id": "eXMgYYoN3W27"
      }
    },
    {
      "cell_type": "markdown",
      "source": [
        "This means:  \n",
        "- we only consider terms for individuals who experienced the event $(\\delta_i = 1)$\n",
        "\n",
        "- for each event time, we compute the ratio of the hazard for the individual experiencing the event to the sum of hazards for all individuals still at risk\n",
        "\n",
        "- the time-varying covariates are evaluated at the specific event time $t_i$\n",
        "\n",
        "- the product is taken over all individuals\n",
        "\n",
        "The key difference from the standard Cox model is that covariates are evaluated at the specific time points rather than being constant."
      ],
      "metadata": {
        "id": "1Pp8c6We3o2Q"
      }
    },
    {
      "cell_type": "markdown",
      "source": [
        "### 2. Analytically derive the gradient (or score)..."
      ],
      "metadata": {
        "id": "eIdVVNpGnCjO"
      }
    },
    {
      "cell_type": "markdown",
      "source": [
        "We will use the $L = L(\\boldsymbol{\\beta})$ from question 1. Taking the logarithm we'll get the log-likelihood:    \n",
        "$$\n",
        "\\log(L(\\boldsymbol{\\beta})) = \\sum_{i=1}^{n} \\delta_i \\left[ \\mathbf{x}_i(t_i)^T \\boldsymbol{\\beta} - \\log \\left( \\sum_{j \\in R(t_i)} \\exp(\\mathbf{x}_j(t_i)^T \\boldsymbol{\\beta}) \\right) \\right]\n",
        "$$\n",
        "\n",
        "Then the deriviative:\n",
        "$$\n",
        "\\frac{d\\log(L)}{d\\beta_k} = \\sum_{i=1}^{n} \\delta_i \\left[ x_{ik}(t_i) - \\frac{d}{d\\beta_k}\\log \\left( \\sum_{j \\in R(t_i)} \\exp(\\mathbf{x}_j(t_i)^T \\boldsymbol{\\beta}) \\right) \\right]\n",
        "$$\n",
        "   \n",
        "For the second term in the bracket, if we denote $S_i = \\sum_{j \\in R(t_i)} \\exp(\\mathbf{x}_j(t_i)^T \\boldsymbol{\\beta})$, then from the chain rule:           \n",
        "\n",
        "$$\n",
        "\\frac{d}{d\\beta_k}\\log(S_i) = \\frac{1}{S_i} \\cdot \\frac{dS_i}{d\\beta_k}\n",
        "$$\n",
        "\n",
        "Now we are looking for $\\frac{dS_i}{d\\beta_k}$:\n",
        "$$\n",
        "\\frac{dS_i}{d\\beta_k} = \\frac{d}{d\\beta_k}\\left(\\sum_{j \\in R(t_i)} \\exp(\\mathbf{x}_j(t_i)^T \\boldsymbol{\\beta})\\right) = \\sum_{j \\in R(t_i)} \\frac{d}{d\\beta_k}\\exp(\\mathbf{x}_j(t_i)^T \\boldsymbol{\\beta})\n",
        "$$\n",
        "\n",
        "Inside the sum we have:\n",
        "$$\n",
        "\\frac{d}{d\\beta_k}\\exp(\\mathbf{x}_j(t_i)^T \\boldsymbol{\\beta}) = \\exp(\\mathbf{x}_j(t_i)^T \\boldsymbol{\\beta}) \\cdot \\frac{d}{d\\beta_k}(\\mathbf{x}_j(t_i)^T \\boldsymbol{\\beta}) = x_{jk}(t_i) \\cdot \\exp(\\mathbf{x}_j(t_i)^T \\boldsymbol{\\beta})\n",
        "$$\n",
        "\n",
        "Then by substituting back we get the $\\frac{dS_i}{d\\beta_k}$ as:\n",
        "$$\n",
        "\\frac{dS_i}{d\\beta_k} = \\sum_{j \\in R(t_i)} x_{jk}(t_i) \\cdot \\exp(\\mathbf{x}_j(t_i)^T \\boldsymbol{\\beta})\n",
        "$$\n",
        "\n",
        "Now by substituting the whole subcalculation back, we can write the second term in the bracket as:\n",
        "$$\n",
        "\\frac{d}{d\\beta_k}\\log(S_i) = \\frac{1}{S_i} \\cdot \\sum_{j \\in R(t_i)} x_{jk}(t_i) \\cdot \\exp(\\mathbf{x}_j(t_i)^T \\boldsymbol{\\beta}) = \\frac{\\sum_{j \\in R(t_i)} x_{jk}(t_i) \\cdot \\exp(\\mathbf{x}_j(t_i)^T \\boldsymbol{\\beta})}{\\sum_{j \\in R(t_i)} \\exp(\\mathbf{x}_j(t_i)^T \\boldsymbol{\\beta})}\n",
        "$$\n",
        "\n",
        "Which finally gives:\n",
        "$$\n",
        "\\frac{d\\log(L)}{d\\beta_k} = \\sum_{i=1}^{n} \\delta_i \\left[ x_{ik}(t_i) - \\frac{\\sum_{j \\in R(t_i)} x_{jk}(t_i) \\exp(\\mathbf{x}_j(t_i)^T \\boldsymbol{\\beta})}{\\sum_{j \\in R(t_i)} \\exp(\\mathbf{x}_j(t_i)^T \\boldsymbol{\\beta})} \\right],\n",
        "$$\n",
        "where $x_{ik}(t_i)$ represents the $k$-th component of the time-varying covariate vector $\\mathbf{x}_i(t_i)$ evaluated at time $t_i$.     \n",
        "Similarily $x_{jk}(t_i)$ for $\\mathbf{x}_j(t_i)$.     \n",
        "\n",
        "The term inside the brackets can be interpreted as the difference between the covariate value for individual $i$ experiencing an event and the weighted average of the covariate values for all individuals at risk at time $t_i$, where the weights are the hazard ratios.\n",
        "\n"
      ],
      "metadata": {
        "id": "kYIg0qmEnH_R"
      }
    },
    {
      "cell_type": "markdown",
      "source": [
        "### 3. Let a binary exposure be defined by..."
      ],
      "metadata": {
        "id": "ONsd_ukrnLeH"
      }
    },
    {
      "cell_type": "markdown",
      "source": [
        "For an individual with exposure $(z_i=1)$, the covariate vector is:\n",
        "$$\n",
        "\\mathbf{x}_i(t) = (1, t)^T\n",
        "$$\n",
        "\n",
        "For an individual without exposure $(z_i=0)$, the covariate vector is:\n",
        "$$\n",
        "\\mathbf{x}_i(t) = (0, 0)^T\n",
        "$$\n",
        "\n",
        "Then, the hazard ratio comparing exposed to unexposed individuals at time $t$ is:\n",
        "$$\n",
        "\\frac{\\lambda(t | z_i = 1)}{\\lambda(t | z_i = 0)} = \\frac{\\lambda_0(t) \\exp((1, t)^T \\boldsymbol{\\beta})}{\\lambda_0(t) \\exp((0, 0)^T \\boldsymbol{\\beta})} = \\frac{\\exp(\\beta_1 + \\beta_2 t)}{\\exp(0)} = \\exp(\\beta_1 + \\beta_2 t),\n",
        "$$        \n",
        "where $\\lambda_0(t)$ was the baseline hazard function."
      ],
      "metadata": {
        "id": "UVU4VkSdnQVz"
      }
    },
    {
      "cell_type": "markdown",
      "source": [
        "### 4. The following code is used to investigate whether the hazard ratio..."
      ],
      "metadata": {
        "id": "8nXB33y5nUML"
      }
    },
    {
      "cell_type": "code",
      "source": [
        "if (!requireNamespace(\"biostat3\", quietly = TRUE)) {\n",
        "  install.packages(\"biostat3\", lib = \"/usr/local/lib/R/site-library\")\n",
        "}"
      ],
      "metadata": {
        "id": "t14Eo2n8HYGn"
      },
      "execution_count": 3,
      "outputs": []
    },
    {
      "cell_type": "code",
      "source": [
        "library(survival)\n",
        "library(biostat3)\n",
        "transform(biostat3::colon, stage=relevel(stage,\"Localised\")) |>\n",
        "    coxph(Surv(surv_mm,status==\"Dead: cancer\")~stage+tt(stage), data=_,\n",
        "          tt=function(x,t,...) (x==\"Distant\")*t/12) |>\n",
        "    summary()"
      ],
      "metadata": {
        "colab": {
          "base_uri": "https://localhost:8080/",
          "height": 659
        },
        "id": "EHRAtTurnZFq",
        "outputId": "52112e9d-9b52-4267-f54c-207a1ad30c0b"
      },
      "execution_count": 4,
      "outputs": [
        {
          "output_type": "stream",
          "name": "stderr",
          "text": [
            "Loading required package: MASS\n",
            "\n",
            "\n",
            "Attaching package: ‘biostat3’\n",
            "\n",
            "\n",
            "The following object is masked from ‘package:survival’:\n",
            "\n",
            "    colon\n",
            "\n",
            "\n"
          ]
        },
        {
          "output_type": "display_data",
          "data": {
            "text/plain": [
              "Call:\n",
              "coxph(formula = Surv(surv_mm, status == \"Dead: cancer\") ~ stage + \n",
              "    tt(stage), data = transform(biostat3::colon, stage = relevel(stage, \n",
              "    \"Localised\")), tt = function(x, t, ...) (x == \"Distant\") * \n",
              "    t/12)\n",
              "\n",
              "  n= 15564, number of events= 8369 \n",
              "\n",
              "                  coef exp(coef) se(coef)      z Pr(>|z|)    \n",
              "stageUnknown   0.93904   2.55753  0.03777 24.865  < 2e-16 ***\n",
              "stageRegional  0.80311   2.23248  0.04105 19.566  < 2e-16 ***\n",
              "stageDistant   2.21903   9.19837  0.03561 62.321  < 2e-16 ***\n",
              "tt(stage)     -0.12347   0.88385  0.01551 -7.959 1.73e-15 ***\n",
              "---\n",
              "Signif. codes:  0 ‘***’ 0.001 ‘**’ 0.01 ‘*’ 0.05 ‘.’ 0.1 ‘ ’ 1\n",
              "\n",
              "              exp(coef) exp(-coef) lower .95 upper .95\n",
              "stageUnknown     2.5575     0.3910    2.3751    2.7540\n",
              "stageRegional    2.2325     0.4479    2.0599    2.4195\n",
              "stageDistant     9.1984     0.1087    8.5783    9.8632\n",
              "tt(stage)        0.8839     1.1314    0.8574    0.9111\n",
              "\n",
              "Concordance= 0.727  (se = 0.003 )\n",
              "Likelihood ratio test= 5849  on 4 df,   p=<2e-16\n",
              "Wald test            = 5310  on 4 df,   p=<2e-16\n",
              "Score (logrank) test = 6821  on 4 df,   p=<2e-16\n"
            ]
          },
          "metadata": {}
        }
      ]
    },
    {
      "cell_type": "markdown",
      "source": [
        "The regression model is:"
      ],
      "metadata": {
        "id": "2tPQfjNOH56P"
      }
    },
    {
      "cell_type": "code",
      "source": [
        "# coxph(Surv(surv_mm, status==\"Dead: cancer\") ~ stage + tt(stage),\n",
        "#       data=transform(biostat3::colon, stage=relevel(stage,\"Localised\")),\n",
        "#       tt=function(x,t,...) (x==\"Distant\")*t/12)"
      ],
      "metadata": {
        "id": "mMvjKdgeIEUG"
      },
      "execution_count": 8,
      "outputs": []
    },
    {
      "cell_type": "markdown",
      "source": [
        "This translates to:\n",
        "$$\n",
        "\\lambda(t|s) = \\lambda_0(t) \\exp\\left(\\beta_1 I(s = \\text{Unknown}) + \\beta_2 I(s = \\text{Regional}) + \\beta_3 I(s = \\text{Distant}) + \\beta_4 I(s = \\text{Distant}) \\times \\frac{t}{12}\\right),\n",
        "$$\n",
        "\n",
        "where:\n",
        "- $\\lambda_0(t)$ is the hazard function for patients with localized cancer (reference level),\n",
        "- $I(\\cdot)$ is an indicator function,\n",
        "- $\\beta_1$, $\\beta_2$, $\\beta_3$ represent the log hazard ratios for Unknown, Regional, and Distant stages compared to Localized stage at $t=0$,\n",
        "- $\\beta_4$ represents how the log hazard ratio for Distant (vs. Localized) cancer changes per year of follow-up,\n",
        "- $\\frac{t}{12}$ converts time from months to years.\n",
        "\n",
        "\n"
      ],
      "metadata": {
        "id": "Dzep1NpYJ8aw"
      }
    },
    {
      "cell_type": "markdown",
      "source": [
        "The four parameters are:\n",
        "1. stageUnknown (coefficient: $0.93904$) with hazard ratio 2.5575\n",
        "2. stageRegional (coefficient: $0.80311$) with hazard ratio 2.2325\n",
        "3. stageDistant (coefficient: $2.21903$) with hazard ratio 9.1984\n",
        "4. tt(stage) (coefficient: $-0.12347$) with hazard ration 0.8839"
      ],
      "metadata": {
        "id": "_o_cFho6Ngk2"
      }
    },
    {
      "cell_type": "markdown",
      "source": [
        "Interpretation:      \n",
        "- At baseline $(t=0)$:\n",
        "    1. Patients with unknown cancer stage have 2.56 times higher hazard of cancer death compared to those with localized cancer.\n",
        "    2. Patients with regional cancer stage have 2.23 times higher hazard of cancer death compared to those with localized cancer.\n",
        "    3. Patients with distant cancer stage have 9.20 times higher hazard of cancer death compared to those with localized cancer.\n",
        "- The effect of distant cancer, compared to localized, changes over time. Namely the hazard ratio for distant vs. localized cancer decreases by a factor of 0.88 per year (parameter 4).\n",
        "- All results are statistically significant."
      ],
      "metadata": {
        "id": "0htCm8xQQXmT"
      }
    },
    {
      "cell_type": "markdown",
      "source": [
        "## E: Data analysis of a randomised controlled trial for hormonal treatment of breast cancer patients in Germany (9 marks)"
      ],
      "metadata": {
        "id": "FbBWFa-vW2CV"
      }
    },
    {
      "cell_type": "code",
      "source": [],
      "metadata": {
        "id": "kGWOPpkcW3A-"
      },
      "execution_count": null,
      "outputs": []
    }
  ]
}