{
  "nbformat": 4,
  "nbformat_minor": 0,
  "metadata": {
    "colab": {
      "provenance": [],
      "authorship_tag": "ABX9TyMJ74azdWEonXzERUL68W6H",
      "include_colab_link": true
    },
    "kernelspec": {
      "name": "ir",
      "display_name": "R"
    },
    "language_info": {
      "name": "R"
    }
  },
  "cells": [
    {
      "cell_type": "markdown",
      "metadata": {
        "id": "view-in-github",
        "colab_type": "text"
      },
      "source": [
        "<a href=\"https://colab.research.google.com/github/dgsob/5BD001/blob/main/SA_THE.ipynb\" target=\"_parent\"><img src=\"https://colab.research.google.com/assets/colab-badge.svg\" alt=\"Open In Colab\"/></a>"
      ]
    },
    {
      "cell_type": "markdown",
      "source": [
        "# Survival Analysis with Applications in Medicine: Take-home examination"
      ],
      "metadata": {
        "id": "gLPz2WR6uj-6"
      }
    },
    {
      "cell_type": "markdown",
      "source": [
        "## A. Weibull regression models (3 marks)"
      ],
      "metadata": {
        "id": "xkyWfnPounEF"
      }
    },
    {
      "cell_type": "markdown",
      "source": [
        "### 1. For a proportional hazards model with $S_0(t)$ that is a Weibull distribution, show that survival $S(t)$ is also from a Weibull distribution. Marks: 1 for a correct answer; 0.5 for a minor error; otherwise 0."
      ],
      "metadata": {
        "id": "XtvlRw3cum-h"
      }
    },
    {
      "cell_type": "markdown",
      "source": [
        "For a proportional hazards model, we have:\n",
        "$$S(t|x) = S_0(t)^{\\exp(\\beta x)}$$\n",
        "\n",
        "Where $$S_0(t) = \\exp(-\\lambda t^k)$$ is the Weibull baseline survival function.\n",
        "\n",
        "Let's substitute:\n",
        "$$S(t|x) = [\\exp(-\\lambda t^k)]^{\\exp(\\beta x)} = \\exp(-\\lambda t^k \\cdot \\exp(\\beta x))$$\n",
        "\n",
        "This can be written as:\n",
        "$$S(t|x) = \\exp(-\\lambda \\cdot \\exp(\\beta x) \\cdot t^k)$$\n",
        "\n",
        "This is still a Weibull distribution with parameter:\n",
        "$$\\lambda' = \\lambda \\cdot \\exp(\\beta x)$$\n",
        "\n",
        "So survival $S(t)$ is indeed from a Weibull distribution."
      ],
      "metadata": {
        "id": "O53PWi4zum5F"
      }
    },
    {
      "cell_type": "markdown",
      "source": [
        "### 2. For an accelerated failure time model with $S_0(t)$ that is a Weibull distribution, show that survival $S(t)$ is also from a Weibull distribution. Marks: 1 for a correct answer; 0.5 for a minor error; otherwise 0."
      ],
      "metadata": {
        "id": "cT7rn2P4ulyr"
      }
    },
    {
      "cell_type": "markdown",
      "source": [
        "For an accelerated failure time (AFT) model, we have:\n",
        "$$S(t|x) = S_0(t \\exp(-\\tilde{\\beta}x))$$\n",
        "\n",
        "Where $$S_0(t) = \\exp(-\\lambda t^k)$$ is the Weibull baseline survival function.\n",
        "\n",
        "Let's substitute:\n",
        "$$S(t|x) = \\exp(-\\lambda[t \\exp(-\\tilde{\\beta}x)]^k)$$\n",
        "$$S(t|x) = \\exp(-\\lambda t^k \\exp(-k\\tilde{\\beta}x))$$\n",
        "\n",
        "This can be written as:\n",
        "$$S(t|x) = \\exp(-\\lambda \\exp(-k\\tilde{\\beta}x) \\cdot t^k)$$\n",
        "\n",
        "This is still a Weibull distribution with parameter:\n",
        "$$\\lambda' = \\lambda\\exp(-k\\tilde{\\beta}x)$$\n",
        "So this survival $S(t)$ is also from a Weibull distribution."
      ],
      "metadata": {
        "id": "vqP5oKIoPCnK"
      }
    },
    {
      "cell_type": "markdown",
      "source": [
        "### 3. What is the relationship between $β$ and $\\tilde{\\beta}$ if both models have a Weibull baseline survival function? Marks: 1 for a correct answer; 0.5 for a minor error; otherwise 0."
      ],
      "metadata": {
        "id": "h3wbfpLHPrtT"
      }
    },
    {
      "cell_type": "markdown",
      "source": [
        "From our derivations above:\n",
        "\n",
        "In the proportional hazards model, the scale parameter is:\n",
        "$\\lambda' = \\lambda \\exp(\\beta x)$\n",
        "\n",
        "In the accelerated failure time model, the scale parameter becomes:\n",
        "$\\lambda' = \\lambda\\exp(-k\\tilde{\\beta}x)$\n",
        "\n",
        "For these to be equivalent models (since they both result in Weibull distributions):\n",
        "$\\lambda \\exp(\\beta x) = \\lambda \\exp(-k\\tilde{\\beta}x)$\n",
        "\n",
        "Then:\n",
        "$\\exp(\\beta x) = \\exp(-k\\tilde{\\beta}x)$ $→$\n",
        "$\\beta x = -k\\tilde{\\beta}x$\n",
        "\n",
        "Thus: $\\beta = -k\\tilde{\\beta}$"
      ],
      "metadata": {
        "id": "qXX6NC4_QTua"
      }
    },
    {
      "cell_type": "markdown",
      "source": [
        "## B: Interval-censored likelihood (3 marks)"
      ],
      "metadata": {
        "id": "Sv3DeiUnR6sH"
      }
    },
    {
      "cell_type": "markdown",
      "source": [
        "### 1. Assume that we have a data tuple $(t_i, u_i, v_i)$ where $t_i$ is the delayed entry (left truncation) time and an event is observed in the interval $(u_i, v_i]$ for individual $i$. Express the log-likelihood for this data tuple in terms of (a) survival $S(t)$ and (b) the hazard $h(t)$ at time $t$. Marks for (a) and for (b): 1 for a correct answer; 0.5 for a minor error; otherwise 0."
      ],
      "metadata": {
        "id": "9h6vLV_KSx1e"
      }
    },
    {
      "cell_type": "markdown",
      "source": [
        "(a)    \n",
        "For left-truncated interval-censored data:\n",
        "\n",
        "$$P(u_i < T_i \\leq v_i|T_i > t_i) = \\frac{P(u_i < T_i \\leq v_i \\cap T_i > t_i)}{P(T_i > t_i)} = \\frac{P(u_i < T_i \\leq v_i)}{P(T_i > t_i)}$$\n",
        "\n",
        "Since $u_i \\geq t_i$ (the observation window starts after the truncation time), we can write:\n",
        "\n",
        "$$P(u_i < T_i \\leq v_i|T_i > t_i) = \\frac{S(u_i) - S(v_i)}{S(t_i)}$$\n",
        "\n",
        "Taking the logarithm for the log-likelihood:\n",
        "\n",
        "$$\\log L_i = \\log[S(u_i) - S(v_i)] - \\log(S(t_i))$$"
      ],
      "metadata": {
        "id": "83KxeqCc302I"
      }
    },
    {
      "cell_type": "markdown",
      "source": [
        "(b)    \n",
        "We know that the survival function can be derived from hazard function:\n",
        "\n",
        "$$S(t) = \\exp \\left(- \\int_0^t h(s)ds \\right)$$\n",
        "\n",
        "Thus:\n",
        "\n",
        "$$S(u_i) = \\exp \\left(- \\int_0^{u_i} h(s)ds \\right)$$\n",
        "\n",
        "$$S(v_i) = \\exp \\left(- \\int_0^{v_i} h(s)ds \\right)$$\n",
        "\n",
        "$$S(t_i) = \\exp \\left(- \\int_0^{t_i} h(s)ds \\right)$$\n",
        "\n",
        "For $S(v_i)$ we can do:\n",
        "$$S(v_i) = \\exp \\left(- \\int_0^{u_i} h(s)ds - \\int_{u_i}^{v_i} h(s)ds \\right) = S(u_i) \\cdot \\exp \\left(- \\int_{u_i}^{v_i} h(s)ds \\right)$$\n",
        "\n",
        "Then substitute it to the result of (a) and factor the $S(u_i)$ out:\n",
        "$$\\log L_i = \\log \\left( S(u_i) - S(u_i) \\cdot \\exp \\left(- \\int_{u_i}^{v_i} h(s)ds \\right) \\right) - \\log(S(t_i))$$\n",
        "\n",
        "$$\\log L_i = \\log \\left( S(u_i) \\cdot \\left( 1 - \\exp \\left(- \\int_{u_i}^{v_i} h(s)ds \\right) \\right) \\right) - \\log(S(t_i))$$\n",
        "\n",
        "$$\\log L_i = \\log(S(u_i)) + \\log \\left( 1 - \\exp \\left(- \\int_{u_i}^{v_i} h(s)ds \\right) \\right) - \\log(S(t_i))$$\n",
        "\n",
        "Now we substitute the $S(u_i)$ and the $S(t_i)$ accordingly:\n",
        "$$\\log L_i = - \\int_0^{u_i} h(s)ds + \\log \\left( 1 - \\exp \\left(- \\int_{u_i}^{v_i} h(s)ds \\right) \\right) + \\int_0^{t_i} h(s)ds$$\n",
        "\n",
        "Since $t_i$ ≤ $u_i$, the above should result in:\n",
        "$$\\log L_i = \\log \\left( 1 - \\exp \\left(- \\int_{u_i}^{v_i} h(s)ds \\right) \\right) - \\int_{t_i}^{u_i} h(s)ds$$"
      ],
      "metadata": {
        "id": "Oz4NNKZy6Fo0"
      }
    },
    {
      "cell_type": "markdown",
      "source": [
        "### 2. Can you express these data using the Surv function from the survival package? If so, show an example; if not, explain why."
      ],
      "metadata": {
        "id": "i0bp9Ms9a9_E"
      }
    },
    {
      "cell_type": "markdown",
      "source": [
        "It can be implicitly expressed like this:"
      ],
      "metadata": {
        "id": "EPfG0J_Z4mwX"
      }
    },
    {
      "cell_type": "code",
      "source": [
        "library(survival)\n",
        "\n",
        "# Example data frame\n",
        "data <- data.frame(\n",
        "  id = 1:5,\n",
        "  t = c(5, 5, 5, 5, 5),      # Left truncation times\n",
        "  u = c(13, 5, 13, 13, 13),   # Lower interval bounds\n",
        "  v = c(18, 5, 538, 13, Inf) # Upper interval bounds\n",
        ")\n",
        "\n",
        "# For interval-censored data, we need to specify a status/event indicator\n",
        "# From https://www.rdocumentation.org/packages/survival/versions/2.11-4/topics/Surv:\n",
        "# 0 = right censored ------> when v = Inf (event not observed)\n",
        "# 1 = event at time -------> when u = v (the exact time of the event is known)\n",
        "# 2 = left censored -------> when u = 0 or u = t (event started before we checked for the first time)\n",
        "# 3 = interval censored ---> when u < v (sort of typical case)\n",
        "status <- rep(3, nrow(data))\n",
        "status[data$v == Inf] <- 0\n",
        "status[data$u == data$v] <- 1\n",
        "status[data$u == data$t] <- 2\n",
        "\n",
        "# Create the interval-censored Surv object\n",
        "surv_obj <- with(data, Surv(time = u, time2 = v, event = status, type = \"interval\"))\n",
        "\n",
        "# Display the Surv object\n",
        "print(surv_obj)\n",
        "\n",
        "# Then when using in a model,\n",
        "# we would include left truncation with a subset parameter:\n",
        "# model <- coxph(surv_obj ~ predictors, data = data, subset = (t < u))"
      ],
      "metadata": {
        "colab": {
          "base_uri": "https://localhost:8080/"
        },
        "id": "R9dTIKk46Ekh",
        "outputId": "f01fa332-3679-4228-c461-a986c63b513f"
      },
      "execution_count": 5,
      "outputs": [
        {
          "output_type": "stream",
          "name": "stdout",
          "text": [
            "[1] [13,  18]  5-       [13, 538] 13        13+      \n"
          ]
        }
      ]
    },
    {
      "cell_type": "markdown",
      "source": [
        "## C: Truncated distributions (7 marks)"
      ],
      "metadata": {
        "id": "L9_yVXgp9CzR"
      }
    },
    {
      "cell_type": "markdown",
      "source": [],
      "metadata": {
        "id": "5DGya_3Q9LdU"
      }
    },
    {
      "cell_type": "code",
      "source": [],
      "metadata": {
        "id": "fdEWoxOSQTDe"
      },
      "execution_count": null,
      "outputs": []
    }
  ]
}