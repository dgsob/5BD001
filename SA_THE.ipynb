{
  "nbformat": 4,
  "nbformat_minor": 0,
  "metadata": {
    "colab": {
      "provenance": [],
      "authorship_tag": "ABX9TyOK+Utj4b0k56ex7xYc+9f+",
      "include_colab_link": true
    },
    "kernelspec": {
      "name": "ir",
      "display_name": "R"
    },
    "language_info": {
      "name": "R"
    }
  },
  "cells": [
    {
      "cell_type": "markdown",
      "metadata": {
        "id": "view-in-github",
        "colab_type": "text"
      },
      "source": [
        "<a href=\"https://colab.research.google.com/github/dgsob/5BD001/blob/main/SA_THE.ipynb\" target=\"_parent\"><img src=\"https://colab.research.google.com/assets/colab-badge.svg\" alt=\"Open In Colab\"/></a>"
      ]
    },
    {
      "cell_type": "markdown",
      "source": [
        "# Survival Analysis with Applications in Medicine: Take-home examination"
      ],
      "metadata": {
        "id": "gLPz2WR6uj-6"
      }
    },
    {
      "cell_type": "markdown",
      "source": [
        "## A. Weibull regression models (3 marks)"
      ],
      "metadata": {
        "id": "xkyWfnPounEF"
      }
    },
    {
      "cell_type": "markdown",
      "source": [
        "### 1. For a proportional hazards model with $S_0(t)$ that is a Weibull distribution, show that survival $S(t)$ is also from a Weibull distribution. Marks: 1 for a correct answer; 0.5 for a minor error; otherwise 0."
      ],
      "metadata": {
        "id": "XtvlRw3cum-h"
      }
    },
    {
      "cell_type": "markdown",
      "source": [
        "For a proportional hazards model, we have:\n",
        "$$S(t|x) = S_0(t)^{\\exp(\\beta x)}$$\n",
        "\n",
        "Where $$S_0(t) = \\exp(-\\lambda t^k)$$ is the Weibull baseline survival function.\n",
        "\n",
        "Let's substitute:\n",
        "$$S(t|x) = [\\exp(-\\lambda t^k)]^{\\exp(\\beta x)} = \\exp(-\\lambda t^k \\cdot \\exp(\\beta x))$$\n",
        "\n",
        "This can be written as:\n",
        "$$S(t|x) = \\exp(-\\lambda \\cdot \\exp(\\beta x) \\cdot t^k)$$\n",
        "\n",
        "This is still a Weibull distribution with parameter:\n",
        "$$\\lambda' = \\lambda \\cdot \\exp(\\beta x)$$\n",
        "\n",
        "So survival $S(t)$ is indeed from a Weibull distribution."
      ],
      "metadata": {
        "id": "O53PWi4zum5F"
      }
    },
    {
      "cell_type": "markdown",
      "source": [
        "### 2. For an accelerated failure time model with $S_0(t)$ that is a Weibull distribution, show that survival $S(t)$ is also from a Weibull distribution. Marks: 1 for a correct answer; 0.5 for a minor error; otherwise 0."
      ],
      "metadata": {
        "id": "cT7rn2P4ulyr"
      }
    },
    {
      "cell_type": "markdown",
      "source": [
        "For an accelerated failure time (AFT) model, we have:\n",
        "$$S(t|x) = S_0(t \\exp(-\\tilde{\\beta}x))$$\n",
        "\n",
        "Where $$S_0(t) = \\exp(-\\lambda t^k)$$ is the Weibull baseline survival function.\n",
        "\n",
        "Let's substitute:\n",
        "$$S(t|x) = \\exp(-\\lambda[t \\exp(-\\tilde{\\beta}x)]^k)$$\n",
        "$$S(t|x) = \\exp(-\\lambda t^k \\exp(-k\\tilde{\\beta}x))$$\n",
        "\n",
        "This can be written as:\n",
        "$$S(t|x) = \\exp(-\\lambda \\exp(-k\\tilde{\\beta}x) \\cdot t^k)$$\n",
        "\n",
        "This is still a Weibull distribution with parameter:\n",
        "$$\\lambda' = \\lambda\\exp(-k\\tilde{\\beta}x)$$\n",
        "So this survival $S(t)$ is also from a Weibull distribution."
      ],
      "metadata": {
        "id": "vqP5oKIoPCnK"
      }
    },
    {
      "cell_type": "markdown",
      "source": [
        "### 3. What is the relationship between $β$ and $\\tilde{\\beta}$ if both models have a Weibull baseline survival function? Marks: 1 for a correct answer; 0.5 for a minor error; otherwise 0."
      ],
      "metadata": {
        "id": "h3wbfpLHPrtT"
      }
    },
    {
      "cell_type": "markdown",
      "source": [
        "From our derivations above:\n",
        "\n",
        "In the proportional hazards model, the scale parameter is:\n",
        "$\\lambda' = \\lambda \\exp(\\beta x)$\n",
        "\n",
        "In the accelerated failure time model, the scale parameter becomes:\n",
        "$\\lambda' = \\lambda\\exp(-k\\tilde{\\beta}x)$\n",
        "\n",
        "For these to be equivalent models (since they both result in Weibull distributions):\n",
        "$\\lambda \\exp(\\beta x) = \\lambda \\exp(-k\\tilde{\\beta}x)$\n",
        "\n",
        "Then:\n",
        "$\\exp(\\beta x) = \\exp(-k\\tilde{\\beta}x)$ $→$\n",
        "$\\beta x = -k\\tilde{\\beta}x$\n",
        "\n",
        "Thus: $\\beta = -k\\tilde{\\beta}$"
      ],
      "metadata": {
        "id": "qXX6NC4_QTua"
      }
    },
    {
      "cell_type": "markdown",
      "source": [
        "## B: Interval-censored likelihood (3 marks)"
      ],
      "metadata": {
        "id": "Sv3DeiUnR6sH"
      }
    },
    {
      "cell_type": "markdown",
      "source": [
        "### 1. Assume that we have a data tuple $(t_i, u_i, v_i)$ where $t_i$ is the delayed entry (left truncation) time and an event is observed in the interval $(u_i, v_i]$ for individual $i$. Express the log-likelihood for this data tuple in terms of (a) survival $S(t)$ and (b) the hazard $h(t)$ at time $t$. Marks for (a) and for (b): 1 for a correct answer; 0.5 for a minor error; otherwise 0."
      ],
      "metadata": {
        "id": "9h6vLV_KSx1e"
      }
    },
    {
      "cell_type": "markdown",
      "source": [
        "(a)    \n",
        "For left-truncated interval-censored data:\n",
        "\n",
        "$$P(u_i < T_i \\leq v_i|T_i > t_i) = \\frac{P(u_i < T_i \\leq v_i \\cap T_i > t_i)}{P(T_i > t_i)} = \\frac{P(u_i < T_i \\leq v_i)}{P(T_i > t_i)}$$\n",
        "\n",
        "Since $u_i \\geq t_i$ (the observation window starts after the truncation time), we can write:\n",
        "\n",
        "$$P(u_i < T_i \\leq v_i|T_i > t_i) = \\frac{S(u_i) - S(v_i)}{S(t_i)}$$\n",
        "\n",
        "Taking the logarithm for the log-likelihood:\n",
        "\n",
        "$$\\log L_i = \\log[S(u_i) - S(v_i)] - \\log(S(t_i))$$"
      ],
      "metadata": {
        "id": "83KxeqCc302I"
      }
    },
    {
      "cell_type": "markdown",
      "source": [
        "(b)    \n",
        "We know that the survival function can be derived from hazard function:\n",
        "\n",
        "$$S(t) = \\exp \\left(- \\int_0^t h(s)ds \\right)$$\n",
        "\n",
        "Thus:\n",
        "\n",
        "$$S(u_i) = \\exp \\left(- \\int_0^{u_i} h(s)ds \\right)$$\n",
        "\n",
        "$$S(v_i) = \\exp \\left(- \\int_0^{v_i} h(s)ds \\right)$$\n",
        "\n",
        "$$S(t_i) = \\exp \\left(- \\int_0^{t_i} h(s)ds \\right)$$\n",
        "\n",
        "For $S(v_i)$ we can do:\n",
        "$$S(v_i) = \\exp \\left(- \\int_0^{u_i} h(s)ds - \\int_{u_i}^{v_i} h(s)ds \\right) = S(u_i) \\cdot \\exp \\left(- \\int_{u_i}^{v_i} h(s)ds \\right)$$\n",
        "\n",
        "Then substitute it to the result of (a) and factor the $S(u_i)$ out:\n",
        "$$\\log L_i = \\log \\left( S(u_i) - S(u_i) \\cdot \\exp \\left(- \\int_{u_i}^{v_i} h(s)ds \\right) \\right) - \\log(S(t_i))$$\n",
        "\n",
        "$$\\log L_i = \\log \\left( S(u_i) \\cdot \\left( 1 - \\exp \\left(- \\int_{u_i}^{v_i} h(s)ds \\right) \\right) \\right) - \\log(S(t_i))$$\n",
        "\n",
        "$$\\log L_i = \\log(S(u_i)) + \\log \\left( 1 - \\exp \\left(- \\int_{u_i}^{v_i} h(s)ds \\right) \\right) - \\log(S(t_i))$$\n",
        "\n",
        "Now we substitute the $S(u_i)$ and the $S(t_i)$ accordingly:\n",
        "$$\\log L_i = - \\int_0^{u_i} h(s)ds + \\log \\left( 1 - \\exp \\left(- \\int_{u_i}^{v_i} h(s)ds \\right) \\right) + \\int_0^{t_i} h(s)ds$$\n",
        "\n",
        "Since $t_i$ ≤ $u_i$, the above should result in:\n",
        "$$\\log L_i = \\log \\left( 1 - \\exp \\left(- \\int_{u_i}^{v_i} h(s)ds \\right) \\right) - \\int_{t_i}^{u_i} h(s)ds$$"
      ],
      "metadata": {
        "id": "Oz4NNKZy6Fo0"
      }
    },
    {
      "cell_type": "markdown",
      "source": [
        "### 2. Can you express these data using the Surv function from the survival package? If so, show an example; if not, explain why."
      ],
      "metadata": {
        "id": "i0bp9Ms9a9_E"
      }
    },
    {
      "cell_type": "markdown",
      "source": [
        "It can be implicitly expressed like this:"
      ],
      "metadata": {
        "id": "EPfG0J_Z4mwX"
      }
    },
    {
      "cell_type": "code",
      "source": [
        "library(survival)\n",
        "\n",
        "# Example data frame\n",
        "data <- data.frame(\n",
        "  id = 1:5,\n",
        "  t = c(5, 5, 5, 5, 5),      # Left truncation times\n",
        "  u = c(13, 5, 13, 13, 13),  # Lower interval bounds\n",
        "  v = c(18, 5, 538, 13, Inf) # Upper interval bounds\n",
        ")\n",
        "\n",
        "# For interval-censored data, we need to specify a status/event indicator\n",
        "# From https://www.rdocumentation.org/packages/survival/versions/2.11-4/topics/Surv:\n",
        "# 0 = right censored ------> when v = Inf (event not observed)\n",
        "# 1 = event at time -------> when u = v (the exact time of the event is known)\n",
        "# 2 = left censored -------> when u = 0 or u = t (event started before we checked for the first time)\n",
        "# 3 = interval censored ---> when u < v (sort of typical case)\n",
        "status <- rep(3, nrow(data))\n",
        "status[data$v == Inf] <- 0\n",
        "status[data$u == data$v] <- 1\n",
        "status[data$u == data$t] <- 2\n",
        "\n",
        "# Create the interval-censored Surv object\n",
        "surv_obj <- with(data, Surv(time = u, time2 = v, event = status, type = \"interval\"))\n",
        "\n",
        "# Display the Surv object\n",
        "print(surv_obj)\n",
        "\n",
        "# Then when using in a model,\n",
        "# we would include left truncation with a subset parameter:\n",
        "# model <- coxph(surv_obj ~ predictors, data = data, subset = (t < u))"
      ],
      "metadata": {
        "colab": {
          "base_uri": "https://localhost:8080/"
        },
        "id": "R9dTIKk46Ekh",
        "outputId": "3e23b94e-fad8-4939-e9f9-981cde157e3f"
      },
      "execution_count": null,
      "outputs": [
        {
          "output_type": "stream",
          "name": "stdout",
          "text": [
            "[1] [13,  18]  5-       [13, 538] 13        13+      \n"
          ]
        }
      ]
    },
    {
      "cell_type": "markdown",
      "source": [
        "## C: Truncated distributions (7 marks)"
      ],
      "metadata": {
        "id": "L9_yVXgp9CzR"
      }
    },
    {
      "cell_type": "markdown",
      "source": [
        "### 1. Express the survival function for the truncated distribution in terms of the survival function for $T$. Mark: 1 for correct answer; 0.5 for minor error; otherwise 0."
      ],
      "metadata": {
        "id": "5DGya_3Q9LdU"
      }
    },
    {
      "cell_type": "markdown",
      "source": [
        "From the definition of conditional probability:\n",
        "$$\n",
        "P(T > t|T > t_0) = \\frac{P(T > t \\cap T > t_0)}{P(T > t_0)}\n",
        "$$     \n",
        "\n",
        "Since $t \\geq t_0$, $P(T > t \\cap T > t_0) = P(T > t)$, then we have:\n",
        "$$\n",
        "P(T > t|T > t_0) = \\frac{P(T > t)}{P(T > t_0)} = \\frac{S(t)}{S(t_0)}\n",
        "$$                           \n",
        "\n",
        "Thus, the survival function for the truncated distribution in terms of $S(t)$ is:     \n",
        "$$\n",
        "S_{t_0}(t) = \\frac{S(t)}{S(t_0)} \\text{ for } t \\geq t_0\n",
        "$$"
      ],
      "metadata": {
        "id": "AQiLP9PTo74o"
      }
    },
    {
      "cell_type": "markdown",
      "source": [
        "### 2. For the truncated distribution, what is the quantile function $Q(p|t_0)$ that solves $P(T > t|T > t_0) = 1 - p$ for $t$ in terms of the survival and quantile functions for $T$ at quantile (probability) $p$? Marks: 2 for correct answer; 1.5 for very minor error; 1 for minor error; 0.5 for major error but correct approach; otherwise 0."
      ],
      "metadata": {
        "id": "-9c0CV8XbEOR"
      }
    },
    {
      "cell_type": "markdown",
      "source": [
        "We have:\n",
        "$$\n",
        "P(T > t|T > t_0) = 1 - p\n",
        "$$            \n",
        "\n",
        "From question 1:\n",
        "$$\n",
        "\\frac{S(t)}{S(t_0)} = 1 - p\n",
        "$$\n",
        "\n",
        "$$\n",
        "S(t) = (1 - p) \\cdot S(t_0)\n",
        "$$\n",
        "\n",
        "The quantile function $Q(p)$ is defined as $S(Q(p))=1−p$.         \n",
        "If we call the quantile function for the truncated distribution $Q(p|t_0)$, then we can write:\n",
        "$$\n",
        "S(Q(p|t_0)) = (1 - p) \\cdot S(t_0)\n",
        "$$\n",
        "\n",
        "$$\n",
        "Q(p|t_0) = S^{-1}((1 - p) \\cdot S(t_0))\n",
        "$$\n",
        "\n",
        "Recall that $S^{-1}(1 - p) = Q(p)$ for the original distribution. If we define $p' = 1 - (1 - p) \\cdot S(t_0)$, then:\n",
        "$$\n",
        "S^{-1}((1 - p) \\cdot S(t_0)) = S^{-1}(1 - p')\n",
        "$$\n",
        "\n",
        "This gives:\n",
        "$$Q(p|t_0) = Q(p')$$\n",
        "\n",
        "Where:\n",
        "$$\n",
        "p' = 1 - S(t_0) + p \\cdot S(t_0)\n",
        "$$          \n",
        "\n",
        "Thus, the quantile function for the truncated distribution is:    \n",
        "$$Q(p|t_0) = Q(1 - S(t_0) + p \\cdot S(t_0))$$"
      ],
      "metadata": {
        "id": "tQhEmBZ8bUtn"
      }
    },
    {
      "cell_type": "markdown",
      "source": [
        "### 3. Using this algorithm, write, run and report on R code to calculate the 0.4 quantile..."
      ],
      "metadata": {
        "id": "Eqa2RM7Bh77t"
      }
    },
    {
      "cell_type": "code",
      "source": [
        "# Parameters for log-normal distribution\n",
        "mu <- 1\n",
        "sigma <- 1.2\n",
        "t0 <- 2\n",
        "p <- 0.4\n",
        "\n",
        "# Calculate S(t0) - survival function at truncation point\n",
        "# For log-normal: S(t0) = 1 - P(T ≤ t0) = 1 - plnorm(t0, meanlog, sdlog)\n",
        "S_t0 <- 1 - plnorm(t0, meanlog = mu, sdlog = sigma)\n",
        "\n",
        "# Calculate adjusted probability for the quantile function\n",
        "p_adjusted <- p * S_t0 + (1 - S_t0)\n",
        "\n",
        "# Calculate the 0.4 quantile of the truncated distribution\n",
        "quantile_truncated <- qlnorm(p_adjusted, meanlog = mu, sdlog = sigma)\n",
        "\n",
        "# Print result\n",
        "cat(\"Survival probability at t0 =\", t0, \"is S(t0) =\", S_t0, \"\\n\")\n",
        "cat(\"Adjusted probability for quantile function =\", p_adjusted, \"\\n\")\n",
        "cat(\"0.4 quantile of the truncated log-normal distribution =\", quantile_truncated, \"\\n\")"
      ],
      "metadata": {
        "id": "fdEWoxOSQTDe",
        "colab": {
          "base_uri": "https://localhost:8080/"
        },
        "outputId": "5f78285a-5d8a-4548-8ee7-65ee75766c3a"
      },
      "execution_count": null,
      "outputs": [
        {
          "output_type": "stream",
          "name": "stdout",
          "text": [
            "Survival probability at t0 = 2 is S(t0) = 0.6009129 \n",
            "Adjusted probability for quantile function = 0.6394523 \n",
            "0.4 quantile of the truncated log-normal distribution = 4.171994 \n"
          ]
        }
      ]
    },
    {
      "cell_type": "markdown",
      "source": [
        "This result indicates that:\n",
        "- 60% of values in the original distribution are greater than 2\n",
        "- when adjusted for truncation it's 64%\n",
        "- 40% of the values in the truncated distribution (where all values are ≥ 2) are less than or equal to approximately 4.17."
      ],
      "metadata": {
        "id": "ju6YcHG1lUql"
      }
    },
    {
      "cell_type": "markdown",
      "source": [
        "### 4. Use this R code to check your value of the 0.4 quantile from the truncated log-normal distribution in question C3"
      ],
      "metadata": {
        "id": "VjNWVv-5jrkZ"
      }
    },
    {
      "cell_type": "code",
      "source": [
        "# Function to generate samples from truncated log-normal distribution\n",
        "rtrunc_lnorm <- function(n, meanlog, sdlog, t0) {\n",
        "  y = rlnorm(n, meanlog, sdlog)\n",
        "  while (any(y < t0)) {\n",
        "    y[y < t0] = rlnorm(sum(y < t0), meanlog, sdlog)\n",
        "  }\n",
        "  y\n",
        "}\n",
        "\n",
        "# Generate a large sample from the truncated distribution\n",
        "set.seed(358)\n",
        "samples <- rtrunc_lnorm(10^5, mu, sigma, t0)\n",
        "\n",
        "# Calculate the 0.4 quantile from the samples\n",
        "quantile_empirical <- quantile(samples, 0.4)\n",
        "\n",
        "# Print result\n",
        "cat(\"0.4 quantile from sampling =\", quantile_empirical, \"\\n\")\n",
        "cat(\"Analytical 0.4 quantile =\", quantile_truncated, \"\\n\")"
      ],
      "metadata": {
        "colab": {
          "base_uri": "https://localhost:8080/"
        },
        "id": "QvehDhknjENQ",
        "outputId": "b0739832-6f98-438e-87c1-e375126bb3d5"
      },
      "execution_count": null,
      "outputs": [
        {
          "output_type": "stream",
          "name": "stdout",
          "text": [
            "0.4 quantile from sampling = 4.170262 \n",
            "Analytical 0.4 quantile = 4.171994 \n"
          ]
        }
      ]
    },
    {
      "cell_type": "markdown",
      "source": [
        "The values are reasonably close."
      ],
      "metadata": {
        "id": "0FKOc683ko3q"
      }
    },
    {
      "cell_type": "markdown",
      "source": [
        "## D: Cox’s partial likelihood with a time-varying effects (6 marks)"
      ],
      "metadata": {
        "id": "Pec9Z2cDmxrH"
      }
    },
    {
      "cell_type": "markdown",
      "source": [
        "### 1. Let the right censored data tuple..."
      ],
      "metadata": {
        "id": "WOPEyNOdm-Vr"
      }
    },
    {
      "cell_type": "markdown",
      "source": [
        "We have:    \n",
        "* For each individual $i \\in \\{1, ..., n\\}$, we have the tuple $(t_i, \\delta_i, x_i(\\cdot))$\n",
        "\n",
        "* $t_i$ is the follow-up time (from $0$ to $t_i$)\n",
        "\n",
        "* $\\delta_i$ is the event indicator (1 if event observed at time $t_i$, $0$ if censored)\n",
        "\n",
        "* $x_i(t)$ represents the time-varying covariates\n",
        "\n",
        "* The time-varying hazard ratio is $\\exp(x_i(t)^T\\beta)$\n",
        "\n",
        "* $R(t_i)$ is the risk set at time $t_i$, defined as individuals set $\\{j: t_j \\geq t_i\\}$\n",
        "\n",
        "* No tied event times are assumed"
      ],
      "metadata": {
        "id": "lCXRDVOVnKZh"
      }
    },
    {
      "cell_type": "markdown",
      "source": [
        "The partial likelihood function for Cox's model with time-varying effects is:    \n",
        "$$\n",
        "L(\\boldsymbol{\\beta}) = \\prod_{i=1}^{n} \\left[ \\frac{\\exp(\\mathbf{x}_i(t_i)^T \\boldsymbol{\\beta})}{\\sum_{j \\in R(t_i)} \\exp(\\mathbf{x}_j(t_i)^T \\boldsymbol{\\beta})} \\right]^{\\delta_i}\n",
        "$$"
      ],
      "metadata": {
        "id": "eXMgYYoN3W27"
      }
    },
    {
      "cell_type": "markdown",
      "source": [
        "This means:  \n",
        "- we only consider terms for individuals who experienced the event $(\\delta_i = 1)$\n",
        "\n",
        "- for each event time, we compute the ratio of the hazard for the individual experiencing the event to the sum of hazards for all individuals still at risk\n",
        "\n",
        "- the time-varying covariates are evaluated at the specific event time $t_i$\n",
        "\n",
        "- the product is taken over all individuals\n",
        "\n",
        "The key difference from the standard Cox model is that covariates are evaluated at the specific time points rather than being constant."
      ],
      "metadata": {
        "id": "1Pp8c6We3o2Q"
      }
    },
    {
      "cell_type": "markdown",
      "source": [
        "### 2. Analytically derive the gradient (or score) $\\frac{d\\log(L)}{d\\beta_k}$."
      ],
      "metadata": {
        "id": "eIdVVNpGnCjO"
      }
    },
    {
      "cell_type": "markdown",
      "source": [
        "We will use the $L = L(\\boldsymbol{\\beta})$ from question 1. Taking the logarithm we'll get the log-likelihood:    \n",
        "$$\n",
        "\\log(L(\\boldsymbol{\\beta})) = \\sum_{i=1}^{n} \\delta_i \\left[ \\mathbf{x}_i(t_i)^T \\boldsymbol{\\beta} - \\log \\left( \\sum_{j \\in R(t_i)} \\exp(\\mathbf{x}_j(t_i)^T \\boldsymbol{\\beta}) \\right) \\right]\n",
        "$$\n",
        "\n",
        "Then the deriviative:\n",
        "$$\n",
        "\\frac{d\\log(L)}{d\\beta_k} = \\sum_{i=1}^{n} \\delta_i \\left[ x_{ik}(t_i) - \\frac{d}{d\\beta_k}\\log \\left( \\sum_{j \\in R(t_i)} \\exp(\\mathbf{x}_j(t_i)^T \\boldsymbol{\\beta}) \\right) \\right]\n",
        "$$\n",
        "   \n",
        "For the second term in the bracket, if we denote $S_i = \\sum_{j \\in R(t_i)} \\exp(\\mathbf{x}_j(t_i)^T \\boldsymbol{\\beta})$, then from the chain rule:           \n",
        "\n",
        "$$\n",
        "\\frac{d}{d\\beta_k}\\log(S_i) = \\frac{1}{S_i} \\cdot \\frac{dS_i}{d\\beta_k}\n",
        "$$\n",
        "\n",
        "Now we are looking for $\\frac{dS_i}{d\\beta_k}$:\n",
        "$$\n",
        "\\frac{dS_i}{d\\beta_k} = \\frac{d}{d\\beta_k}\\left(\\sum_{j \\in R(t_i)} \\exp(\\mathbf{x}_j(t_i)^T \\boldsymbol{\\beta})\\right) = \\sum_{j \\in R(t_i)} \\frac{d}{d\\beta_k}\\exp(\\mathbf{x}_j(t_i)^T \\boldsymbol{\\beta})\n",
        "$$\n",
        "\n",
        "Inside the sum we have:\n",
        "$$\n",
        "\\frac{d}{d\\beta_k}\\exp(\\mathbf{x}_j(t_i)^T \\boldsymbol{\\beta}) = \\exp(\\mathbf{x}_j(t_i)^T \\boldsymbol{\\beta}) \\cdot \\frac{d}{d\\beta_k}(\\mathbf{x}_j(t_i)^T \\boldsymbol{\\beta}) = x_{jk}(t_i) \\cdot \\exp(\\mathbf{x}_j(t_i)^T \\boldsymbol{\\beta})\n",
        "$$\n",
        "\n",
        "Then by substituting back we get the $\\frac{dS_i}{d\\beta_k}$ as:\n",
        "$$\n",
        "\\frac{dS_i}{d\\beta_k} = \\sum_{j \\in R(t_i)} x_{jk}(t_i) \\cdot \\exp(\\mathbf{x}_j(t_i)^T \\boldsymbol{\\beta})\n",
        "$$\n",
        "\n",
        "Now by substituting the whole subcalculation back, we can write the second term in the bracket as:\n",
        "$$\n",
        "\\frac{d}{d\\beta_k}\\log(S_i) = \\frac{1}{S_i} \\cdot \\sum_{j \\in R(t_i)} x_{jk}(t_i) \\cdot \\exp(\\mathbf{x}_j(t_i)^T \\boldsymbol{\\beta}) = \\frac{\\sum_{j \\in R(t_i)} x_{jk}(t_i) \\cdot \\exp(\\mathbf{x}_j(t_i)^T \\boldsymbol{\\beta})}{\\sum_{j \\in R(t_i)} \\exp(\\mathbf{x}_j(t_i)^T \\boldsymbol{\\beta})}\n",
        "$$\n",
        "\n",
        "Which finally gives:\n",
        "$$\n",
        "\\frac{d\\log(L)}{d\\beta_k} = \\sum_{i=1}^{n} \\delta_i \\left[ x_{ik}(t_i) - \\frac{\\sum_{j \\in R(t_i)} x_{jk}(t_i) \\exp(\\mathbf{x}_j(t_i)^T \\boldsymbol{\\beta})}{\\sum_{j \\in R(t_i)} \\exp(\\mathbf{x}_j(t_i)^T \\boldsymbol{\\beta})} \\right],\n",
        "$$\n",
        "where $x_{ik}(t_i)$ represents the $k$-th component of the time-varying covariate vector $\\mathbf{x}_i(t_i)$ evaluated at time $t_i$.     \n",
        "Similarily $x_{jk}(t_i)$ for $\\mathbf{x}_j(t_i)$.     \n",
        "\n",
        "The term inside the brackets can be interpreted as the difference between the covariate value for individual $i$ experiencing an event and the weighted average of the covariate values for all individuals at risk at time $t_i$, where the weights are the hazard ratios.\n",
        "\n"
      ],
      "metadata": {
        "id": "kYIg0qmEnH_R"
      }
    },
    {
      "cell_type": "markdown",
      "source": [
        "### 3. Let a binary exposure be defined by..."
      ],
      "metadata": {
        "id": "ONsd_ukrnLeH"
      }
    },
    {
      "cell_type": "markdown",
      "source": [
        "For an individual with exposure $(z_i=1)$, the covariate vector is:\n",
        "$$\n",
        "\\mathbf{x}_i(t) = (1, t)^T\n",
        "$$\n",
        "\n",
        "For an individual without exposure $(z_i=0)$, the covariate vector is:\n",
        "$$\n",
        "\\mathbf{x}_i(t) = (0, 0)^T\n",
        "$$\n",
        "\n",
        "Then, the hazard ratio comparing exposed to unexposed individuals at time $t$ is:\n",
        "$$\n",
        "\\frac{\\lambda(t | z_i = 1)}{\\lambda(t | z_i = 0)} = \\frac{\\lambda_0(t) \\exp((1, t)^T \\boldsymbol{\\beta})}{\\lambda_0(t) \\exp((0, 0)^T \\boldsymbol{\\beta})} = \\frac{\\exp(\\beta_1 + \\beta_2 t)}{\\exp(0)} = \\exp(\\beta_1 + \\beta_2 t),\n",
        "$$        \n",
        "where $\\lambda_0(t)$ was the baseline hazard function."
      ],
      "metadata": {
        "id": "UVU4VkSdnQVz"
      }
    },
    {
      "cell_type": "markdown",
      "source": [
        "### 4. The following code is used to investigate whether the hazard ratio..."
      ],
      "metadata": {
        "id": "8nXB33y5nUML"
      }
    },
    {
      "cell_type": "code",
      "source": [
        "if (!requireNamespace(\"biostat3\", quietly = TRUE)) {\n",
        "  install.packages(\"biostat3\", lib = \"/usr/local/lib/R/site-library\")\n",
        "}"
      ],
      "metadata": {
        "id": "t14Eo2n8HYGn"
      },
      "execution_count": null,
      "outputs": []
    },
    {
      "cell_type": "code",
      "source": [
        "library(survival)\n",
        "library(biostat3)\n",
        "transform(biostat3::colon, stage=relevel(stage,\"Localised\")) |>\n",
        "    coxph(Surv(surv_mm,status==\"Dead: cancer\")~stage+tt(stage), data=_,\n",
        "          tt=function(x,t,...) (x==\"Distant\")*t/12) |>\n",
        "    summary()"
      ],
      "metadata": {
        "colab": {
          "base_uri": "https://localhost:8080/",
          "height": 659
        },
        "id": "EHRAtTurnZFq",
        "outputId": "1cd7e2fd-489c-42f6-92f5-b7d82079a2d3"
      },
      "execution_count": null,
      "outputs": [
        {
          "output_type": "stream",
          "name": "stderr",
          "text": [
            "Loading required package: MASS\n",
            "\n",
            "\n",
            "Attaching package: ‘biostat3’\n",
            "\n",
            "\n",
            "The following object is masked from ‘package:survival’:\n",
            "\n",
            "    colon\n",
            "\n",
            "\n"
          ]
        },
        {
          "output_type": "display_data",
          "data": {
            "text/plain": [
              "Call:\n",
              "coxph(formula = Surv(surv_mm, status == \"Dead: cancer\") ~ stage + \n",
              "    tt(stage), data = transform(biostat3::colon, stage = relevel(stage, \n",
              "    \"Localised\")), tt = function(x, t, ...) (x == \"Distant\") * \n",
              "    t/12)\n",
              "\n",
              "  n= 15564, number of events= 8369 \n",
              "\n",
              "                  coef exp(coef) se(coef)      z Pr(>|z|)    \n",
              "stageUnknown   0.93904   2.55753  0.03777 24.865  < 2e-16 ***\n",
              "stageRegional  0.80311   2.23248  0.04105 19.566  < 2e-16 ***\n",
              "stageDistant   2.21903   9.19837  0.03561 62.321  < 2e-16 ***\n",
              "tt(stage)     -0.12347   0.88385  0.01551 -7.959 1.73e-15 ***\n",
              "---\n",
              "Signif. codes:  0 ‘***’ 0.001 ‘**’ 0.01 ‘*’ 0.05 ‘.’ 0.1 ‘ ’ 1\n",
              "\n",
              "              exp(coef) exp(-coef) lower .95 upper .95\n",
              "stageUnknown     2.5575     0.3910    2.3751    2.7540\n",
              "stageRegional    2.2325     0.4479    2.0599    2.4195\n",
              "stageDistant     9.1984     0.1087    8.5783    9.8632\n",
              "tt(stage)        0.8839     1.1314    0.8574    0.9111\n",
              "\n",
              "Concordance= 0.727  (se = 0.003 )\n",
              "Likelihood ratio test= 5849  on 4 df,   p=<2e-16\n",
              "Wald test            = 5310  on 4 df,   p=<2e-16\n",
              "Score (logrank) test = 6821  on 4 df,   p=<2e-16\n"
            ]
          },
          "metadata": {}
        }
      ]
    },
    {
      "cell_type": "markdown",
      "source": [
        "The regression model is:"
      ],
      "metadata": {
        "id": "2tPQfjNOH56P"
      }
    },
    {
      "cell_type": "code",
      "source": [
        "# coxph(Surv(surv_mm, status==\"Dead: cancer\") ~ stage + tt(stage),\n",
        "#       data=transform(biostat3::colon, stage=relevel(stage,\"Localised\")),\n",
        "#       tt=function(x,t,...) (x==\"Distant\")*t/12)"
      ],
      "metadata": {
        "id": "mMvjKdgeIEUG"
      },
      "execution_count": null,
      "outputs": []
    },
    {
      "cell_type": "markdown",
      "source": [
        "This translates to, for example:\n",
        "$$\n",
        "\\lambda(t|s) = \\lambda_0(t) \\exp\\left(\\beta_1 I(s = \\text{Unknown}) + \\beta_2 I(s = \\text{Regional}) + \\beta_3 I(s = \\text{Distant}) + \\beta_4 I(s = \\text{Distant}) \\times \\frac{t}{12}\\right),\n",
        "$$\n",
        "\n",
        "where:\n",
        "- $\\lambda_0(t)$ is the hazard function for patients with localized cancer (reference level),\n",
        "- $I(\\cdot)$ is an indicator function,\n",
        "- $\\beta_1$, $\\beta_2$, $\\beta_3$ represent the log hazard ratios for Unknown, Regional, and Distant stages compared to Localized stage at $t=0$,\n",
        "- $\\beta_4$ represents how the log hazard ratio for Distant (vs. Localized) cancer changes per year of follow-up,\n",
        "- $\\frac{t}{12}$ converts time from months to years.\n",
        "\n",
        "\n"
      ],
      "metadata": {
        "id": "Dzep1NpYJ8aw"
      }
    },
    {
      "cell_type": "markdown",
      "source": [
        "The four parameters are:\n",
        "1. stageUnknown (coefficient: $0.93904$) with hazard ratio 2.5575\n",
        "2. stageRegional (coefficient: $0.80311$) with hazard ratio 2.2325\n",
        "3. stageDistant (coefficient: $2.21903$) with hazard ratio 9.1984\n",
        "4. tt(stage) (coefficient: $-0.12347$) with hazard ration 0.8839"
      ],
      "metadata": {
        "id": "_o_cFho6Ngk2"
      }
    },
    {
      "cell_type": "markdown",
      "source": [
        "Interpretation:      \n",
        "- At baseline $(t=0)$:\n",
        "    1. Patients with unknown cancer stage have 2.56 times higher hazard of cancer death compared to those with localized cancer.\n",
        "    2. Patients with regional cancer stage have 2.23 times higher hazard of cancer death compared to those with localized cancer.\n",
        "    3. Patients with distant cancer stage have 9.20 times higher hazard of cancer death compared to those with localized cancer.\n",
        "- The effect of distant cancer, compared to localized, changes over time. Namely the hazard ratio for distant vs. localized cancer decreases by a factor of 0.88 per year (parameter 4).\n",
        "- All results are statistically significant."
      ],
      "metadata": {
        "id": "0htCm8xQQXmT"
      }
    },
    {
      "cell_type": "markdown",
      "source": [
        "## E: Data analysis of a randomised controlled trial for hormonal treatment of breast cancer patients in Germany (9 marks)"
      ],
      "metadata": {
        "id": "FbBWFa-vW2CV"
      }
    },
    {
      "cell_type": "markdown",
      "source": [
        "### 1. Plot the Kaplan-Meier curves by randomisation arm, including a legend and appropriate axis labels. Carefully describe the pattern. Marks: 2 for a complete description of the pattern; 1 for a partial description of the pattern; otherwise 0."
      ],
      "metadata": {
        "id": "FOsjdP2EcQvl"
      }
    },
    {
      "cell_type": "code",
      "source": [
        "if (!requireNamespace(\"rstpm2\", quietly = TRUE)) {\n",
        "  install.packages(\"rstpm2\", lib = \"/usr/local/lib/R/site-library\")\n",
        "}"
      ],
      "metadata": {
        "colab": {
          "base_uri": "https://localhost:8080/"
        },
        "id": "IPQFbnNCcjbN",
        "outputId": "b5bd2ade-4e4b-4e07-dbce-86e1ea304692",
        "collapsed": true
      },
      "execution_count": null,
      "outputs": [
        {
          "output_type": "stream",
          "name": "stderr",
          "text": [
            "also installing the dependencies ‘numDeriv’, ‘bdsmatrix’, ‘bbmle’, ‘fastGHQuad’, ‘mvtnorm’, ‘RcppArmadillo’, ‘BH’\n",
            "\n",
            "\n"
          ]
        }
      ]
    },
    {
      "cell_type": "code",
      "source": [
        "library(rstpm2)\n",
        "library(survival)\n",
        "library(ggplot2)"
      ],
      "metadata": {
        "id": "kGWOPpkcW3A-",
        "colab": {
          "base_uri": "https://localhost:8080/"
        },
        "outputId": "efbe7423-30e8-431b-819d-9ec4dba44cfb",
        "collapsed": true
      },
      "execution_count": null,
      "outputs": [
        {
          "output_type": "stream",
          "name": "stderr",
          "text": [
            "Loading required package: splines\n",
            "\n",
            "\n",
            "Attaching package: ‘rstpm2’\n",
            "\n",
            "\n",
            "The following objects are masked from ‘package:biostat3’:\n",
            "\n",
            "    colon, eform, popmort\n",
            "\n",
            "\n",
            "The following object is masked from ‘package:survival’:\n",
            "\n",
            "    colon\n",
            "\n",
            "\n"
          ]
        }
      ]
    },
    {
      "cell_type": "code",
      "source": [
        "# Load the dataset\n",
        "data(brcancer, package = \"rstpm2\")\n",
        "\n",
        "# Create a survival object\n",
        "surv_obj <- Surv(brcancer$rectime, brcancer$censrec == 1)\n",
        "\n",
        "# Fit the Kaplan-Meier model by treatment group\n",
        "km_fit <- survfit(surv_obj ~ hormon, data = brcancer)\n",
        "\n",
        "# Plot size controls\n",
        "options(repr.plot.width=9, repr.plot.height=9)\n",
        "par(mar = c(5, 5, 3, 3), cex.main = 1.8, cex.lab = 1.5, cex.axis = 1.3, fig = c(0, 1, 0, 1))\n",
        "\n",
        "# Plot the Kaplan-Meier curves\n",
        "plot(km_fit,\n",
        "     xlab = \"Time (days)\",\n",
        "     ylab = \"Recurrence-free Probability\",\n",
        "     col = c(\"red\", \"blue\"),\n",
        "     lwd = 2,\n",
        "     main = \"Kaplan-Meier Curves by Hormonal Treatment\")\n",
        "\n",
        "# Add a legend\n",
        "legend(\"topright\",\n",
        "       legend = c(\"No Hormonal Treatment (hormon=0)\", \"Hormonal Treatment (hormon=1)\"),\n",
        "       col = c(\"red\", \"blue\"),\n",
        "       lwd = 2)"
      ],
      "metadata": {
        "colab": {
          "base_uri": "https://localhost:8080/",
          "height": 557
        },
        "id": "CQsmKFe0cYR5",
        "outputId": "2503f7b3-21fd-4fcc-d86f-7a2654981c69"
      },
      "execution_count": null,
      "outputs": [
        {
          "output_type": "display_data",
          "data": {
            "text/plain": [
              "Plot with title “Kaplan-Meier Curves by Hormonal Treatment”"
            ],
            "image/png": "[encoded data removed]"
          },
          "metadata": {
            "image/png": {
              "width": 540,
              "height": 540
            }
          }
        }
      ]
    },
    {
      "cell_type": "markdown",
      "source": [
        "Description of the pattern:\n",
        "\n",
        "The Kaplan-Meier curves show the recurrence-free probability over time for breast cancer patients, comparing those who received hormonal therapy (hormon=1) versus those who did not (hormon=0).   \n",
        "\n",
        "The curves demonstrate a clear separation, with the hormonal treatment group (blue line) showing consistently higher recurrence-free probability throughout the follow-up period compared to the control group (red line). This suggests that hormonal therapy is associated with delayed breast cancer recurrence.     \n",
        "\n",
        "The difference between the two groups appears to begin early in the follow-up period and then generally continues to widen over time, indicating a sustained benefit of hormonal treatment in reducing the risk of breast cancer recurrence. Both curves show the typical downward trend as events occur over time, but the slope is less steep for the treatment group, confirming the protective effect of the hormonal therapy."
      ],
      "metadata": {
        "id": "Ft0gArtBeIuW"
      }
    },
    {
      "cell_type": "markdown",
      "source": [
        "### 2. Fit a Cox regression model, adjusting for hormonal treatment. Write out the regression model, defining any notation. Describe your findings..."
      ],
      "metadata": {
        "id": "XKedbOBzj6vh"
      }
    },
    {
      "cell_type": "code",
      "source": [
        "# Cox proportional hazards regression model is:\n",
        "cox_model <- coxph(Surv(rectime, censrec == 1) ~ hormon, data = brcancer)\n",
        "# where:\n",
        "      # rectime is the outcome variable, i.e. time to breast cancer recurrence\n",
        "      # censrec == 1 is the event indicator, where 1 indicates recurrence\n",
        "      # hormon is the predictor variable\n",
        "\n",
        "summary(cox_model)"
      ],
      "metadata": {
        "colab": {
          "base_uri": "https://localhost:8080/",
          "height": 312
        },
        "id": "D_dLkX12dxG7",
        "outputId": "10c307f3-67ff-43a5-ea3e-e6c0812aa21b"
      },
      "execution_count": null,
      "outputs": [
        {
          "output_type": "display_data",
          "data": {
            "text/plain": [
              "Call:\n",
              "coxph(formula = Surv(rectime, censrec == 1) ~ hormon, data = brcancer)\n",
              "\n",
              "  n= 686, number of events= 299 \n",
              "\n",
              "          coef exp(coef) se(coef)      z Pr(>|z|)   \n",
              "hormon -0.3640    0.6949   0.1250 -2.911   0.0036 **\n",
              "---\n",
              "Signif. codes:  0 ‘***’ 0.001 ‘**’ 0.01 ‘*’ 0.05 ‘.’ 0.1 ‘ ’ 1\n",
              "\n",
              "       exp(coef) exp(-coef) lower .95 upper .95\n",
              "hormon    0.6949      1.439    0.5438    0.8879\n",
              "\n",
              "Concordance= 0.543  (se = 0.014 )\n",
              "Likelihood ratio test= 8.82  on 1 df,   p=0.003\n",
              "Wald test            = 8.47  on 1 df,   p=0.004\n",
              "Score (logrank) test = 8.57  on 1 df,   p=0.003\n"
            ]
          },
          "metadata": {}
        }
      ]
    },
    {
      "cell_type": "markdown",
      "source": [
        "The above model can be expressed as:\n",
        "$$\n",
        "\\lambda(t|h_i) = \\lambda_0(t) \\exp(h_i \\beta),\n",
        "$$\n",
        "\n",
        "where:\n",
        "- $\\lambda_0(t)$ is the baseline hazard function for patients without hormonal treatment (reference level $h_i=0$),\n",
        "- $\\beta$ represents the log hazard ratio for hormonal treatment ($h_i=1$) compared to no hormonal treatment ($h_i=0$),\n",
        "- $h_i$ is the hormonal treatment status for the $i$-th individual (1 for treated, 0 for untreated).\n"
      ],
      "metadata": {
        "id": "FiXhi71zlPmA"
      }
    },
    {
      "cell_type": "markdown",
      "source": [
        "As the main \"estimand of choice\" for the results interpretation we will use the hazard ratio, i.e. $\\exp(\\beta)$:\n",
        "\n",
        "- if hazard ratio < 1: Hormonal treatment reduces the risk of breast cancer recurrence,\n",
        "- if hazard ratio = 1: Hormonal treatment has no effect on recurrence risk,\n",
        "- if hazard ratio > 1: Hormonal treatment increases the risk of recurrence."
      ],
      "metadata": {
        "id": "fNliSvRZv524"
      }
    },
    {
      "cell_type": "markdown",
      "source": [
        "Interpretation of the findings:\n",
        "\n",
        "- The hazard ratio for \"hormon\" is 0.6949 indicating that patients on hormonal therapy have a lower risk of breast cancer recurrence compared to those not on hormonal therapy.\n",
        "\n",
        "- The results are statistically significant (p-value = 0.0036 < 0.05).\n",
        "\n",
        "- This means that hormonal treatment is associated with a reduced hazard of breast cancer recurrence.\n"
      ],
      "metadata": {
        "id": "6Wsi-xENtJZm"
      }
    },
    {
      "cell_type": "markdown",
      "source": [
        "Justification for the model specification:\n",
        "\n",
        "1. The primary research question is to compare recurrence between treatment groups.\n",
        "2. The Cox model makes minimal assumptions about the underlying distribution of survival times.\n",
        "3. The proportional hazards assumption is reasonable for treatment effects in randomized controlled trials.\n",
        "\n",
        "This analysis allows us to directly assess the efficacy of hormonal treatment in reducing breast cancer recurrence in this data."
      ],
      "metadata": {
        "id": "sqmJtjqXutee"
      }
    },
    {
      "cell_type": "markdown",
      "source": [
        "### 3. Provide a formal test for proportional hazards by treatment arm. Clearly describe which test, motivate why you chose that test, and describe what the test found."
      ],
      "metadata": {
        "id": "qCPpVSo5xpgn"
      }
    },
    {
      "cell_type": "markdown",
      "source": [
        "To assess the proportional hazards assumption in the Cox regression model, the most typical test to do is the Schoenfeld residuals test."
      ],
      "metadata": {
        "id": "OfUOvymQyYZy"
      }
    },
    {
      "cell_type": "code",
      "source": [
        "# Proportional hazards test, using Schoenfeld residuals\n",
        "ph_test <- cox.zph(cox_model)\n",
        "print(ph_test)\n",
        "\n",
        "plot(ph_test)"
      ],
      "metadata": {
        "colab": {
          "base_uri": "https://localhost:8080/",
          "height": 609
        },
        "id": "VAn74jsyk83i",
        "outputId": "6a7729d9-db87-42f5-da9d-553ac89cc3d8"
      },
      "execution_count": null,
      "outputs": [
        {
          "output_type": "stream",
          "name": "stdout",
          "text": [
            "       chisq df    p\n",
            "hormon 0.227  1 0.63\n",
            "GLOBAL 0.227  1 0.63\n"
          ]
        },
        {
          "output_type": "display_data",
          "data": {
            "text/plain": [
              "plot without title"
            ],
            "image/png": "[encoded data removed]"
          },
          "metadata": {
            "image/png": {
              "width": 540,
              "height": 540
            }
          }
        }
      ]
    },
    {
      "cell_type": "markdown",
      "source": [
        "#### About the test:"
      ],
      "metadata": {
        "id": "wvde7hylNqlU"
      }
    },
    {
      "cell_type": "markdown",
      "source": [
        "The test works by examining the correlation between the Schoenfeld residuals and follow-up time. Under the proportional hazards assumption, these residuals should be uncorrelated with time. In our case, the test produces:\n",
        "\n",
        "- chi-square test statistic: 0.227\n",
        "- degrees of freedom: 1\n",
        "- p-value for the test: 0.63"
      ],
      "metadata": {
        "id": "oPselLmnFS8a"
      }
    },
    {
      "cell_type": "markdown",
      "source": [
        "Why use it in this case:\n",
        "\n",
        "- It is specifically designed to assess the proportional hazards assumption.\n",
        "- It is widely accepted as the standard method for this purpose in survival analysis.\n",
        "- It provides both numerical results and graphical visualization of potential violations.\n",
        "- It can detect time-varying effects, which are particularly important in long-term treatment studies."
      ],
      "metadata": {
        "id": "PO18x_a6J82K"
      }
    },
    {
      "cell_type": "markdown",
      "source": [
        "#### How exactly it tests the proportional hazards:\n"
      ],
      "metadata": {
        "id": "tfGGpwX1OekK"
      }
    },
    {
      "cell_type": "markdown",
      "source": [
        "When we fit a Cox model such as ours:\n",
        "$$\n",
        "\\lambda(t|h_i) = \\lambda_0(t) \\exp(h_i \\beta),\n",
        "$$\n",
        "we are assuming that the coefficient $\\beta$ is constant over time. If this assumption holds, the log hazard ratio between the treatment groups remains constant regardless of when we measure it.\n",
        "\n",
        "Schoenfeld residuals represent the difference between the observed covariate value (hormon 0 or 1 in our case) and its expected value at each failure time, weighted by the estimated risk set. For the $j$-th failure time and the hormonal treatment covariate, the Schoenfeld residual is calculated as:      \n",
        "$$\n",
        "r_j = h_j - \\frac{\\sum_{i \\in R_j} h_i \\exp(h_i \\beta)}{\\sum_{i \\in R_j} \\exp(h_i \\beta)},\n",
        "$$\n",
        "\n",
        "where $R_j$​ is the risk set at time $j$ (i.e. individuals still at risk just before time $j$).\n",
        "\n",
        "If the proportional hazards assumption holds true, these residuals should show no systematic pattern over time.       \n",
        "The test formalizes this by looking for a correlation between the residuals and transformed time. A significant correlation indicates non-proportionality, meaning the treatment effect changes over time, violating the model's core assumption."
      ],
      "metadata": {
        "id": "qBuPFyWCOf-i"
      }
    },
    {
      "cell_type": "markdown",
      "source": [
        "#### Interpretation of the findings:"
      ],
      "metadata": {
        "id": "JaIFtvf5OHUb"
      }
    },
    {
      "cell_type": "markdown",
      "source": [
        "Since the test results show a p-value = 0.63 > 0.05, we can conclude that there is no significant evidence against the proportional hazards assumption, supporting the validity of our Cox model. If the p-value were to be < 0.05, we would have evidence that the effect of hormonal treatment varies over time, which would require us to consider more complex models that can account for time-varying effects.\n",
        "\n",
        "The plots also supports these conclusions. We can see:\n",
        "- the y-axis showing the scaled Schoenfeld residuals for the hormonal treatment variable,\n",
        "- the x-axis showing follow-up days,\n",
        "- the solid line, which represents a smoothed estimate of how the coefficient (log hazard ratio) changes over time,\n",
        "- the dotted lines representing confidence bands around this estimate,\n",
        "- the scattered points representing the actual residuals for each individual event (breast cancer recurrence) in the dataset.\n",
        "\n",
        "The solid line remains relatively flat and within the confidence bands throughout most of the follow-up period. This indicates that the effect of hormonal treatment doesn't significantly change over time. If the proportional hazards assumption were violated, we would see a clear upward or downward trend in the line and/or the residuals."
      ],
      "metadata": {
        "id": "BQYzVAW4F5OC"
      }
    },
    {
      "cell_type": "markdown",
      "source": [
        "### 4. Provide a plot to graphically evaluate whether there is evidence for proportional hazards. Motivate your choice of method, and describe the method and the results of the evaluation."
      ],
      "metadata": {
        "id": "10kmP0lHQLsa"
      }
    },
    {
      "cell_type": "markdown",
      "source": [
        "I believe the Schoenfeld residuals plot from the previous exercise, its description and the description of the results already answer this question as well."
      ],
      "metadata": {
        "id": "-H7HCcysQdSp"
      }
    },
    {
      "cell_type": "markdown",
      "source": [
        "## F: Analysis plan for a randomised controlled trial (5 marks)"
      ],
      "metadata": {
        "id": "uxUUJ0D0USIp"
      }
    },
    {
      "cell_type": "markdown",
      "source": [
        "### 1. Write an outline of how to analyse this study. The outline should include: the estimand of interest; the estimator for that estimand; how you will assess potential confounding; how you will model for potential confounding; whether and how to assess for proportional hazards; and a description of the tables and figures used for reporting. Your analysis plan should provide some motivation for your choices."
      ],
      "metadata": {
        "id": "_xi_5DbSUV8s"
      }
    },
    {
      "cell_type": "markdown",
      "source": [
        "#### The estimand of interest"
      ],
      "metadata": {
        "id": "xkuQ2U4eUAah"
      }
    },
    {
      "cell_type": "markdown",
      "source": [
        "The estimand would be the cause-specific hazard ratio (HR), comparing the risk of death due to colorectal cancer over five years between experimental arm (low-dose aspirin) and the control arm (no low-dose aspirin).\n",
        "\n",
        "Motivation:      \n",
        "Cause-specific death directly addresses the research question about survival improvement and the hazard ratio provides a clinically interpretable measure of the relative risk of death between the two treatment groups over time."
      ],
      "metadata": {
        "id": "XCXoFbVtUShR"
      }
    },
    {
      "cell_type": "markdown",
      "source": [
        "#### The estimator for that estimand"
      ],
      "metadata": {
        "id": "HuorTI2oVQFe"
      }
    },
    {
      "cell_type": "markdown",
      "source": [
        "To estimate the HR, a Cox proportional hazards model would be used.\n",
        "\n",
        "Motivation:    \n",
        "The Cox model is appropriate because it handles time-to-event data with censoring (patients who don't experience the event during follow-up), which is expected in a 5-year survival study. It's the standard approach for analyzing survival outcomes in clinical trials."
      ],
      "metadata": {
        "id": "ZrCMX4CUVURH"
      }
    },
    {
      "cell_type": "markdown",
      "source": [
        "#### How to assess potential confounding"
      ],
      "metadata": {
        "id": "fE0p6rKFWV1Z"
      }
    },
    {
      "cell_type": "markdown",
      "source": [
        "We would identify potential confounders that may need adjustment by comparing the baseline characteristics (among well-known prognostic factors that we have accessible in the data, for example these could include age, sex, cancer stage, tumor location, previous treatments, etc.) between arms using statistical tests (e.g. t-tests for continuous variables, chi-square for categorical data) and looking for any covariates with clinically meaningful imbalances.\n",
        "\n",
        "Motivation:    \n",
        "Even with randomization, chance imbalances can occur. Assessing baseline characteristics helps to verify the success of the randomization."
      ],
      "metadata": {
        "id": "D0AssiKgWZc1"
      }
    },
    {
      "cell_type": "markdown",
      "source": [
        "#### How to model for potential confounding"
      ],
      "metadata": {
        "id": "ZbMSCtRAYbcD"
      }
    },
    {
      "cell_type": "markdown",
      "source": [
        "We would run two models:\n",
        "1. Unadjusted model (i.e., adjusted for hormonal treatment only, for reference).\n",
        "2. Adjusted model including all important covariates - the imbalanced ones among previously assessed.                  \n",
        "\n",
        "Motivation:    \n",
        "Adjusted model should preserve randomization benefits while improving efficiency. By comparing e.g., the AUC between this and the unadjusted model we would be able to justify the selection of the additional covariates."
      ],
      "metadata": {
        "id": "Ojw3s_C-YeyN"
      }
    },
    {
      "cell_type": "markdown",
      "source": [
        "#### Whether and how to assess for proportional hazards"
      ],
      "metadata": {
        "id": "NHg_wl6tbqPm"
      }
    },
    {
      "cell_type": "markdown",
      "source": [
        "We could use Schoenfeld residuals test to assess correlation between residuals and time.\n",
        "\n",
        "Motivation:          \n",
        "The Cox model assumes proportional hazards. Violation of this assumption could lead to biased results and incorrect conclusions about treatment efficacy. If PH were to be violated, then we would use a stratified Cox model, time-varying coefficients, or switch to an accelerated failure time model."
      ],
      "metadata": {
        "id": "8B8GbyOFbsyH"
      }
    },
    {
      "cell_type": "markdown",
      "source": [
        "#### Description of the tables and figures used for reporting"
      ],
      "metadata": {
        "id": "BA8c6TMHdc-w"
      }
    },
    {
      "cell_type": "markdown",
      "source": [
        "For example:\n",
        "1. Table with baseline characteristics by treatment arm, with p-values or standardized differences.\n",
        "2. Table with HR results, 95% confidence interval, and p-value from the Cox model.\n",
        "3. Figure with Kaplan-Meier curves for cause-specific survival by treatment arm.\n",
        "4. Figure from Schoenfeld residuals test.\n",
        "\n",
        "\n",
        "Motivation:    \n",
        "Such tables and figures provide both visual and numerical summaries of the resuts, as well a minimal support for the choices made by potentially showing their corectness.\n",
        "\n"
      ],
      "metadata": {
        "id": "RheVMXzDdrzJ"
      }
    },
    {
      "cell_type": "markdown",
      "source": [
        "### 2. Finally, discuss whether non-collapsibility is an issue for the chosen estimator."
      ],
      "metadata": {
        "id": "6RCPGehQfnqU"
      }
    },
    {
      "cell_type": "markdown",
      "source": [
        "Non-collapsibility is a concern for the Cox model's HR if covariates are adjusted for. The HR is a conditional measure, meaning its value depends on covariates included in the model, even if those covariates are not confounders. For example, adjusting for a balanced prognostic factor in a Randomised Controlled Trial (RCT) may change the HR estimate purely due to non-collapsibility, not confounding.\n",
        "\n",
        "However, in the primary unadjusted analysis (typical for RCTs), the HR is marginal and collapsible, avoiding this issue. If adjustment is necessary (e.g., for imbalanced factors, as discussed above), the conditional HR remains valid but must be interpreted as conditional on covariates. Non-collapsibility does not bias the estimator, however it does complicate direct comparisons with unadjusted estimates."
      ],
      "metadata": {
        "id": "oZ6HrUUpfrEB"
      }
    },
    {
      "cell_type": "markdown",
      "source": [
        "# Acknowledgement of the use of generative AI"
      ],
      "metadata": {
        "id": "aVtDg5G7G5fe"
      }
    },
    {
      "cell_type": "markdown",
      "source": [
        "During the preparation of this work, Claude 3.7 Sonnet (Anthropic, https://claude.ai/) and DeepSeek-R1 (DeepSeek, https://chat.deepseek.com/) were used to:\n",
        "- recall, explain and discuss the relevant concepts in survival analysis and calculus,\n",
        "- rephrase some paragraphs and refine LaTeX code, mostly ensuring consistency in notation, without substantial changes to the underlying meaning,\n",
        "- provide examples on the use of R programming language.\n",
        "\n",
        "The generated content was being continuously reviewed and extensively edited throughout the writing process according to the author's knowledge and understanding of the topics.\n",
        "The author takes full responsibility for the accuracy, integrity, and originality of the final work.\n",
        "\n",
        "The generative AI was not used to make any of the final decisions on the approach to solve any of the tasks, nor was it used in any of the explanations and interpretations of the specific results."
      ],
      "metadata": {
        "id": "1qL19NAlHF3v"
      }
    },
    {
      "cell_type": "code",
      "source": [],
      "metadata": {
        "id": "FoEu1qLTJ_Ud"
      },
      "execution_count": null,
      "outputs": []
    }
  ]
}